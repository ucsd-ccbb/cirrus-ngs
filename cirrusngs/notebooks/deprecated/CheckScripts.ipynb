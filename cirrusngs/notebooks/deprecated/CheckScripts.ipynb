{
 "cells": [
  {
   "cell_type": "markdown",
   "metadata": {},
   "source": [
    "# Check Scripts on Cluster"
   ]
  },
  {
   "cell_type": "markdown",
   "metadata": {},
   "source": [
    "## 1. Configure AWS key pair"
   ]
  },
  {
   "cell_type": "markdown",
   "metadata": {},
   "source": [
    "This cell only contains information that you, the user, should input.\n",
    "\n",
    "#### String Fields\n",
    "\n",
    "**your_cluster_name**: This is the name given to your cluster when it was created using cfncluster. \n",
    "\n",
    "**private_key**: The path to your private key needed to access your cluster."
   ]
  },
  {
   "cell_type": "code",
   "execution_count": null,
   "metadata": {
    "collapsed": true
   },
   "outputs": [],
   "source": [
    "from pprint import pprint\n",
    "import os\n",
    "import sys\n",
    "from cirrusngs.managers import ClusterSetupManager, ConnectionManager, AddonsManager\n",
    "\n",
    "#name of the cluster\n",
    "your_cluster_name = \"clustername\"\n",
    "\n",
    "## The private key pair for accessing cluster.\n",
    "private_key = \"/path/to/your_aws_key.pem\"\n",
    "\n",
    "## If delete cfncluster after job is done./\n",
    "delete_cfncluster= False\n",
    "\n",
    "print(\"variables set\")"
   ]
  },
  {
   "cell_type": "markdown",
   "metadata": {},
   "source": [
    "## 2. Connect to Cluster"
   ]
  },
  {
   "cell_type": "markdown",
   "metadata": {},
   "source": [
    "Run this before any following cells, it provides the connection to the cluster."
   ]
  },
  {
   "cell_type": "code",
   "execution_count": null,
   "metadata": {
    "collapsed": true
   },
   "outputs": [],
   "source": [
    "master_ip_address = CFNClusterManager.create_cfn_cluster(cluster_name=your_cluster_name)\n",
    "ssh_client = ConnectionManager.connect_master(hostname=master_ip_address,\n",
    "               username=\"ec2-user\",\n",
    "               private_key_file=private_key)"
   ]
  },
  {
   "cell_type": "markdown",
   "metadata": {},
   "source": [
    "## 3. Get the Supported Pipelines"
   ]
  },
  {
   "cell_type": "markdown",
   "metadata": {},
   "source": [
    "### Note: this cell must be run before any following cells"
   ]
  },
  {
   "cell_type": "code",
   "execution_count": null,
   "metadata": {
    "collapsed": true
   },
   "outputs": [],
   "source": [
    "#This cell must be run before others in this section\n",
    "\n",
    "scripts = AddonsManager.get_scripts_dict(ssh_client)\n",
    "print()\n",
    "print(\"Supported Pipelines:\", AddonsManager.get_all_pipeline_names(scripts))"
   ]
  },
  {
   "cell_type": "markdown",
   "metadata": {},
   "source": [
    "## 4. Choose Any of the Following Cells"
   ]
  },
  {
   "cell_type": "markdown",
   "metadata": {},
   "source": [
    "These cells all provide some different kind of information about the cluster's scripts. Unless otherwise noted feel free to skip around and run them as you wish."
   ]
  },
  {
   "cell_type": "markdown",
   "metadata": {},
   "source": [
    "### Get the Supported Workflows in a Given Pipeline"
   ]
  },
  {
   "cell_type": "markdown",
   "metadata": {},
   "source": [
    "This cell prints out a list of workflows that are supported by a pipeline that you specify. The target_pipeline field can be set to a supported pipeline (see Get the Supported Pipelines) or \"all\". When set to \"all\", this cell will show all supported workflows by all pipelines. Note that the target_pipeline field is case sensitive."
   ]
  },
  {
   "cell_type": "code",
   "execution_count": null,
   "metadata": {
    "collapsed": true
   },
   "outputs": [],
   "source": [
    "#can be set to a supported pipeline name or \"all\"\n",
    "target_pipeline = \"all\"\n",
    "\n",
    "print(\"Supported Workflows in {} Pipeline(s): \".format(target_pipeline), end=\"\")\n",
    "pprint(AddonsManager.get_workflows_in_pipeline(scripts, target_pipeline), indent=2)"
   ]
  },
  {
   "cell_type": "markdown",
   "metadata": {},
   "source": [
    "### Get the Scripts Used by a Given Pipeline/Workflow"
   ]
  },
  {
   "cell_type": "markdown",
   "metadata": {},
   "source": [
    "This cell prints out a list of all the shell scripts that are used by a given pipeline or workflow. The target_pipeline field is the same as the target_pipeline field above. It can be set to a supported pipeline or to \"all\". When set to all, this cell will print the scripts used by every workflow in every pipeline. The target_workflow field is ignored if target_pipeline is set to \"all\". The target_workflow field can be set to a supported workflow for the provided target_pipeline or to all. See the previous cell for supported workflows for each pipeline. If set to \"all\", then this cell will print the shell scripts used by all workflows within the given pipeline."
   ]
  },
  {
   "cell_type": "code",
   "execution_count": null,
   "metadata": {
    "collapsed": true
   },
   "outputs": [],
   "source": [
    "#can be set to a supported pipeline or \"all\"\n",
    "target_pipeline = \"all\"\n",
    "\n",
    "#can be set to a support workflow or \"all\"\n",
    "#if target_pipeline == \"all\" then this variable is ignored\n",
    "target_workflow = \"all\"\n",
    "\n",
    "pprint(AddonsManager.get_scripts(scripts, target_pipeline, target_workflow))"
   ]
  },
  {
   "cell_type": "markdown",
   "metadata": {},
   "source": [
    "### Print a Script"
   ]
  },
  {
   "cell_type": "markdown",
   "metadata": {},
   "source": [
    "This prints out the specified script. The whole shell script will be printed out. The target_pipeline field must be set to a valid pipeline, the target_workflow field must be set to a valid workflow in that pipeline, and the target_script field must be set to a valid script in that workflow. For scripts that are shared by multiple pipelines/workflows you must provide some pipeline/workflow that contains that script to print it out.\n",
    "\n",
    "The output will include a result surrounded by \"###\" that indicates where this script can be called from. Afterwards\n",
    "there will be an exact printout of the script specified."
   ]
  },
  {
   "cell_type": "code",
   "execution_count": null,
   "metadata": {
    "collapsed": true
   },
   "outputs": [],
   "source": [
    "#all targets must be set to a valid pipeline/workflow/script\n",
    "#use cells above to check valid options\n",
    "\n",
    "target_pipeline = \"DNASeq\"\n",
    "target_workflow = \"bwa_gatk\"\n",
    "target_script = \"bwa.sh\"\n",
    "\n",
    "loc, file_cat = AddonsManager.cat_script(ssh_client, scripts, target_pipeline, target_workflow, target_script)\n",
    "\n",
    "print(\"\".join([\"#\"]*len(loc)) + \"\\n{}\\n\".format(loc) + \"\".join([\"#\"]*len(loc)))\n",
    "AddonsManager.show_script(file_cat)"
   ]
  },
  {
   "cell_type": "markdown",
   "metadata": {},
   "source": [
    "### Check Which Step Calls a Script"
   ]
  },
  {
   "cell_type": "markdown",
   "metadata": {},
   "source": [
    "This cell shows the user which steps in the pipeline notebooks actually call a given shell script. The target_script field should be a shell script that exists on the pipeline (including the .sh file extension). The output will contain\n",
    "where the shell script is called from. If (for example) fastqc.sh is called from the fastqc step in every pipeline, then the output will only say \"fastqc in all Pipelines\". "
   ]
  },
  {
   "cell_type": "code",
   "execution_count": null,
   "metadata": {
    "collapsed": true
   },
   "outputs": [],
   "source": [
    "#should be the name of a shell script on the cluster (include sh extension)\n",
    "target_script = \"k_align.sh\"\n",
    "\n",
    "print(AddonsManager.get_steps_calling_script(ssh_client, scripts, target_script))"
   ]
  }
 ],
 "metadata": {
  "kernelspec": {
   "display_name": "Python 3",
   "language": "python",
   "name": "python3"
  },
  "language_info": {
   "codemirror_mode": {
    "name": "ipython",
    "version": 3
   },
   "file_extension": ".py",
   "mimetype": "text/x-python",
   "name": "python",
   "nbconvert_exporter": "python",
   "pygments_lexer": "ipython3",
   "version": "3.6.1"
  }
 },
 "nbformat": 4,
 "nbformat_minor": 2
}
