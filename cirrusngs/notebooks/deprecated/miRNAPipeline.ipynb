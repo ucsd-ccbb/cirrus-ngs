{
 "cells": [
  {
   "cell_type": "markdown",
   "metadata": {},
   "source": [
    "# miRNA Pipeline"
   ]
  },
  {
   "cell_type": "markdown",
   "metadata": {},
   "source": [
    "## Be sure to install paramiko and scp with pip before using this notebook"
   ]
  },
  {
   "cell_type": "markdown",
   "metadata": {},
   "source": [
    "## 1. Configure AWS key pair, data location on S3 and the project information"
   ]
  },
  {
   "cell_type": "markdown",
   "metadata": {},
   "source": [
    "This cell only contains information that you, the user, should input.\n",
    "\n",
    "#### String Fields\n",
    "\n",
    "**s3_input_files_address**: This is an s3 path to where your input fastq files are found. This shouldn't be the path to the actual fastq files, just to the directory containing all of them. All fastq files must be in the same s3 bucket.\n",
    "\n",
    "**s3_output_files_address**: This is an s3 path to where you would like the outputs from your project to be uploaded. This will only be the root directory, please see the README for information about exactly how outputs are structured\n",
    "\n",
    "**design_file**: This is a path to your design file for this project. Please see the README for the format specification for the design files. \n",
    "\n",
    "**your_cluster_name**: This is the name given to your cluster when it was created using cfncluster. \n",
    "\n",
    "**private_key**: The path to your private key needed to access your cluster.\n",
    "\n",
    "**project_name**: Name of your project. There should be no whitespace.\n",
    "\n",
    "**workflow**: The workflow you want to run for this project. For the miRNASeq pipeline the possible workflow is \"bowtie2\". \n",
    "\n",
    "**genome**: The name of the reference you want to use for your project. Currently only \"human\" is supported here.\n",
    "\n",
    "#### analysis_steps\n",
    "This is a set of strings that contains the steps you would like to run. The order of the steps does not matter.\n",
    "\n",
    "posible bowtie2 steps: \"fastqc\", \"trim\", \"cut_adapt\", \"align_and_count\", \"multiqc\""
   ]
  },
  {
   "cell_type": "code",
   "execution_count": 1,
   "metadata": {},
   "outputs": [
    {
     "name": "stdout",
     "output_type": "stream",
     "text": [
      "Variables set.\n"
     ]
    }
   ],
   "source": [
    "import os\n",
    "import sys\n",
    "from util import PipelineManager\n",
    "from util import DesignFileLoader\n",
    "\n",
    "## S3 input and output addresses.\n",
    "# Notice: DO NOT put a forward slash at the end of your addresses.\n",
    "s3_input_files_address = \"s3://ucsd-ccbb-interns/Mengyi/mirna_test/20171107_Tom_miRNASeq/fastq\"\n",
    "s3_output_files_address = \"s3://ucsd-ccbb-interns/Mustafa/smallrna_test\"\n",
    "    \n",
    "## Path to the design file\n",
    "design_file = \"../../data/cirrus-ngs/mirna_test_design.txt\"\n",
    "\n",
    "## CFNCluster name\n",
    "your_cluster_name = \"mustafa8\"\n",
    "\n",
    "## The private key pair for accessing cluster.\n",
    "private_key = \"/home/mustafa/keys/interns_oregon_key.pem\"\n",
    "\n",
    "## Project information\n",
    "# Recommended: Specify year, month, date, user name and pipeline name (no empty spaces)\n",
    "project_name = \"test_project\"\n",
    "\n",
    "## Workflow information: only \"bowtie2\" now\n",
    "workflow = \"bowtie2\"\n",
    "\n",
    "## Genome information: currently available genomes: human, mouse\n",
    "genome = \"mouse\"\n",
    "\n",
    "## \"fastqc\", \"trim\", \"cut_adapt\", \"align_and_count\", \"merge_counts\", \"multiqc\"\n",
    "analysis_steps = {\"fastqc\", \"trim\", \"cut_adapt\", \"align_and_count\",\"multiqc\"}\n",
    "\n",
    "## If delete cfncluster after job is done.\n",
    "delete_cfncluster = False\n",
    "\n",
    "print(\"Variables set.\")"
   ]
  },
  {
   "cell_type": "markdown",
   "metadata": {},
   "source": [
    "## 2. Create CFNCluster"
   ]
  },
  {
   "cell_type": "markdown",
   "metadata": {},
   "source": [
    "Following cell connects to your cluster. Run before step 3."
   ]
  },
  {
   "cell_type": "code",
   "execution_count": 2,
   "metadata": {},
   "outputs": [
    {
     "name": "stdout",
     "output_type": "stream",
     "text": [
      "cluster mustafa8 does exist.\n",
      "warning: There is a newer version 1.4.2 of cfncluster available.\n",
      "Status: CREATE_COMPLETE\n",
      "Status: CREATE_COMPLETE\n",
      "MasterServer: RUNNING\n",
      "MasterServer: RUNNING\n",
      "Output:\"MasterPublicIP\"=\"34.218.52.146\"\n",
      "Output:\"MasterPrivateIP\"=\"172.31.47.153\"\n",
      "Output:\"GangliaPublicURL\"=\"http://34.218.52.146/ganglia/\"\n",
      "Output:\"GangliaPrivateURL\"=\"http://172.31.47.153/ganglia/\"\n",
      "\n",
      "connecting\n",
      "connected\n"
     ]
    }
   ],
   "source": [
    "sys.path.append(\"../../src/cirrus_ngs\")\n",
    "from cfnCluster import CFNClusterManager, ConnectionManager\n",
    "## Create a new cluster\n",
    "master_ip_address = CFNClusterManager.create_cfn_cluster(cluster_name=your_cluster_name)\n",
    "ssh_client = ConnectionManager.connect_master(hostname=master_ip_address,\n",
    "                                              username=\"ec2-user\",\n",
    "                                              private_key_file=private_key)"
   ]
  },
  {
   "cell_type": "markdown",
   "metadata": {},
   "source": [
    "## 3. Run the pipeline"
   ]
  },
  {
   "cell_type": "markdown",
   "metadata": {},
   "source": [
    "This cell actually executes your pipeline. Make sure that steps 1 and 2 have been completed before running."
   ]
  },
  {
   "cell_type": "code",
   "execution_count": 3,
   "metadata": {},
   "outputs": [
    {
     "name": "stdout",
     "output_type": "stream",
     "text": [
      "hairpin_mouse\n",
      "[['AD17-WK52_ACTGAT_S72_L002_R1_001.fastq.gz'], ['AD17-WK73_GTGAAA_S18_L001_R1_001.fastq.gz'], ['AD5-WK24_GTGGCC_S67_L002_R1_001.fastq.gz']]\n",
      "['group1', 'group1', 'group2']\n",
      "{}\n",
      "making the yaml file...\n",
      "copying yaml file to remote master node...\n",
      "test_project.yaml\n",
      "/shared/workspace/Pipelines/yaml_files/SmallRNASeq/bowtie2\n",
      "executing pipeline...\n"
     ]
    }
   ],
   "source": [
    "## DO NOT edit below\n",
    "reference = \"hairpin_{}\".format(genome)\n",
    "print(reference)\n",
    "\n",
    "sample_list, group_list, pair_list = DesignFileLoader.load_design_file(design_file)\n",
    "\n",
    "PipelineManager.execute(\"SmallRNASeq\", ssh_client, project_name, workflow, analysis_steps, s3_input_files_address,\n",
    "                       sample_list, group_list, s3_output_files_address, reference, \"NA\", pair_list)"
   ]
  },
  {
   "cell_type": "markdown",
   "metadata": {},
   "source": [
    "## 4. Check status of pipeline"
   ]
  },
  {
   "cell_type": "markdown",
   "metadata": {},
   "source": [
    "This allows you to check the status of your pipeline. You can specify a step or set the step variable to \"all\". If you specify a step it should be one that is in your analysis_steps set. You can toggle how verbose the status checking is by setting the verbose flag (at the end of the second line) to False. "
   ]
  },
  {
   "cell_type": "code",
   "execution_count": 9,
   "metadata": {},
   "outputs": [
    {
     "name": "stdout",
     "output_type": "stream",
     "text": [
      "checking status of jobs...\n",
      "\n",
      "Your project will go through the following steps:\n",
      "\tfastqc, trim, cut_adapt, align_and_count, multiqc\n",
      "\n",
      "The fastqc step calls the fastqc.sh script on the cluster\n",
      "The fastqc step has finished running without failure\n",
      "\n",
      "The trim step calls the trim.sh script on the cluster\n",
      "The trim step has finished running without failure\n",
      "\n",
      "The cut_adapt step calls the cutadapt.sh script on the cluster\n",
      "The cut_adapt step has finished running without failure\n",
      "\n",
      "The align_and_count step calls the bowtie2_and_count.sh script on the cluster\n",
      "The align_and_count step has finished running without failure\n",
      "\n",
      "The multiqc step calls the multiqc.sh script on the cluster\n",
      "The multiqc step has finished running without failure\n",
      "\n",
      "\n",
      "Your pipeline has finished\n",
      "\n"
     ]
    }
   ],
   "source": [
    "step=\"all\"\n",
    "PipelineManager.check_status(ssh_client, step, \"SmallRNASeq\", workflow, project_name, analysis_steps,verbose=True)"
   ]
  },
  {
   "cell_type": "markdown",
   "metadata": {
    "collapsed": true
   },
   "source": [
    "## 5. Display MultiQC report"
   ]
  },
  {
   "cell_type": "markdown",
   "metadata": {},
   "source": [
    "### Note: Run the cells below after the multiqc step is done"
   ]
  },
  {
   "cell_type": "code",
   "execution_count": 10,
   "metadata": {},
   "outputs": [
    {
     "name": "stdout",
     "output_type": "stream",
     "text": [
      "download: s3://ucsd-ccbb-interns/Mustafa/smallrna_test/test_project/bowtie2/multiqc_report.html to ../../data/multiqc_report.html\n"
     ]
    }
   ],
   "source": [
    "# Download the multiqc html file to local\n",
    "notebook_dir = os.getcwd().split(\"notebooks\")[0] + \"data/\"\n",
    "!aws s3 cp $s3_output_files_address/$project_name/$workflow/multiqc_report.html $notebook_dir"
   ]
  },
  {
   "cell_type": "code",
   "execution_count": 11,
   "metadata": {},
   "outputs": [
    {
     "data": {
      "text/html": [
       "\n",
       "        <iframe\n",
       "            width=\"100%\"\n",
       "            height=\"1000\"\n",
       "            src=\"../../data/multiqc_report.html\"\n",
       "            frameborder=\"0\"\n",
       "            allowfullscreen\n",
       "        ></iframe>\n",
       "        "
      ],
      "text/plain": [
       "<IPython.lib.display.IFrame at 0x7f467c128be0>"
      ]
     },
     "execution_count": 11,
     "metadata": {},
     "output_type": "execute_result"
    }
   ],
   "source": [
    "from IPython.display import IFrame\n",
    "\n",
    "IFrame(os.path.relpath(\"{}multiqc_report.html\".format(notebook_dir)), width=\"100%\", height=1000)"
   ]
  },
  {
   "cell_type": "code",
   "execution_count": null,
   "metadata": {
    "collapsed": true
   },
   "outputs": [],
   "source": []
  }
 ],
 "metadata": {
  "kernelspec": {
   "display_name": "Python 3",
   "language": "python",
   "name": "python3"
  },
  "language_info": {
   "codemirror_mode": {
    "name": "ipython",
    "version": 3
   },
   "file_extension": ".py",
   "mimetype": "text/x-python",
   "name": "python",
   "nbconvert_exporter": "python",
   "pygments_lexer": "ipython3",
   "version": "3.6.1"
  }
 },
 "nbformat": 4,
 "nbformat_minor": 1
}
