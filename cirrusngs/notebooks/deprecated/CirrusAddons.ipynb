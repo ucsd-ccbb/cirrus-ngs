{
 "cells": [
  {
   "cell_type": "markdown",
   "metadata": {},
   "source": [
    "# Addons to monitor cluster"
   ]
  },
  {
   "cell_type": "code",
   "execution_count": 1,
   "metadata": {},
   "outputs": [
    {
     "name": "stdout",
     "output_type": "stream",
     "text": [
      "variables set\n"
     ]
    }
   ],
   "source": [
    "from pprint import pprint\n",
    "import os\n",
    "import sys\n",
    "\n",
    "#name of the cluster\n",
    "your_cluster_name = \"mustafa8\"\n",
    "\n",
    "## The private key pair for accessing cluster.\n",
    "private_key = \"/home/mustafa/keys/interns_oregon_key.pem\"\n",
    "\n",
    "## If delete cfncluster after job is done./\n",
    "delete_cfncluster= False\n",
    "\n",
    "print(\"variables set\")"
   ]
  },
  {
   "cell_type": "code",
   "execution_count": 2,
   "metadata": {},
   "outputs": [
    {
     "name": "stdout",
     "output_type": "stream",
     "text": [
      "cluster mustafa8 does exist.\n",
      "warning: There is a newer version 1.4.2 of cfncluster available.\n",
      "Status: CREATE_COMPLETE\n",
      "Status: CREATE_COMPLETE\n",
      "MasterServer: RUNNING\n",
      "MasterServer: RUNNING\n",
      "Output:\"MasterPublicIP\"=\"34.218.52.146\"\n",
      "Output:\"MasterPrivateIP\"=\"172.31.47.153\"\n",
      "Output:\"GangliaPublicURL\"=\"http://34.218.52.146/ganglia/\"\n",
      "Output:\"GangliaPrivateURL\"=\"http://172.31.47.153/ganglia/\"\n",
      "\n",
      "connecting\n",
      "connected\n"
     ]
    }
   ],
   "source": [
    "sys.path.append(\"../../src/cirrus_ngs\")\n",
    "from cfnCluster import CFNClusterManager, ConnectionManager\n",
    "from util import AddonsManager\n",
    "\n",
    "## Create a new cluster\n",
    "master_ip_address = CFNClusterManager.create_cfn_cluster(cluster_name=your_cluster_name)\n",
    "ssh_client = ConnectionManager.connect_master(hostname=master_ip_address,\n",
    "               username=\"ec2-user\",\n",
    "               private_key_file=private_key)"
   ]
  },
  {
   "cell_type": "markdown",
   "metadata": {},
   "source": [
    "### Check Scripts on Cluster"
   ]
  },
  {
   "cell_type": "markdown",
   "metadata": {},
   "source": [
    "This section containss cells that can be used to check which scripts are currently on the cluster being used. "
   ]
  },
  {
   "cell_type": "markdown",
   "metadata": {},
   "source": [
    "#### Get all supported pipelines"
   ]
  },
  {
   "cell_type": "code",
   "execution_count": 3,
   "metadata": {},
   "outputs": [
    {
     "name": "stdout",
     "output_type": "stream",
     "text": [
      "\n",
      "Supported Pipelines: ['RNASeq', 'DNASeq', 'ChiPSeq', 'SmallRNASeq']\n"
     ]
    }
   ],
   "source": [
    "#This cell must be run before others in this section\n",
    "\n",
    "scripts = AddonsManager.get_scripts_dict(ssh_client)\n",
    "print()\n",
    "print(\"Supported Pipelines:\", AddonsManager.get_all_pipeline_names(scripts))"
   ]
  },
  {
   "cell_type": "markdown",
   "metadata": {},
   "source": [
    "#### Check which workflows are in a given pipeline"
   ]
  },
  {
   "cell_type": "code",
   "execution_count": 4,
   "metadata": {
    "scrolled": true
   },
   "outputs": [
    {
     "name": "stdout",
     "output_type": "stream",
     "text": [
      "Supported Workflows in all Pipeline(s): \n",
      "{ 'ChiPSeq': ['homer'],\n",
      "  'DNASeq': ['bwa_gatk', 'bwa_mutect'],\n",
      "  'RNASeq': ['star_rsem', 'star_htseq', 'kallisto', 'star_gatk'],\n",
      "  'SmallRNASeq': ['bowtie2']}\n"
     ]
    }
   ],
   "source": [
    "#can be set to a supported pipeline name or \"all\"\n",
    "target_pipeline = \"all\"\n",
    "\n",
    "print(\"Supported Workflows in {} Pipeline(s): \".format(target_pipeline), end=\"\")\n",
    "pprint(AddonsManager.get_workflows_in_pipeline(scripts, target_pipeline), indent=2)"
   ]
  },
  {
   "cell_type": "markdown",
   "metadata": {},
   "source": [
    "#### Check which shell scripts are in a given pipeline or workflow"
   ]
  },
  {
   "cell_type": "code",
   "execution_count": 6,
   "metadata": {},
   "outputs": [
    {
     "name": "stdout",
     "output_type": "stream",
     "text": [
      "{'All Pipelines': ['fastqc.sh', 'multiqc.sh', 'trim.sh', 'run.sh'],\n",
      " 'ChiPSeq': {'All Workflows': [],\n",
      "             'homer': ['pos2bed.sh',\n",
      "                       'find_motifs_genome.sh',\n",
      "                       'annotate_peaks.sh',\n",
      "                       'make_tag_directory.sh',\n",
      "                       'bowtie.sh',\n",
      "                       'findpeaks.sh',\n",
      "                       'make_UCSC_file.sh']},\n",
      " 'DNASeq': {'All Workflows': ['merge.sh',\n",
      "                              'split.sh',\n",
      "                              'sort.sh',\n",
      "                              'bwa.sh',\n",
      "                              'post.sh',\n",
      "                              'dedup.sh'],\n",
      "            'bwa_gatk': ['haplo.sh', 'group_vcf.sh', 'filter.sh'],\n",
      "            'bwa_mutect': ['mutect.sh', 'merge_vcf_pairwise.sh']},\n",
      " 'RNASeq': {'All Workflows': ['RNA_merge_counts.sh', 'make_group.sh'],\n",
      "            'kallisto': ['k_align.sh', 'k_count.sh'],\n",
      "            'star_gatk': ['gatk_align.sh', 'gatk_vc.sh'],\n",
      "            'star_htseq': ['ht_align.sh', 'ht_count.sh'],\n",
      "            'star_rsem': ['cal_expression.sh', 'merge.sh']},\n",
      " 'SmallRNASeq': {'All Workflows': [],\n",
      "                 'bowtie2': ['cutadapt.sh',\n",
      "                             'bowtie2_and_count.sh',\n",
      "                             'miRNA_merge_counts.sh']}}\n"
     ]
    }
   ],
   "source": [
    "#can be set to a supported pipeline or \"all\"\n",
    "target_pipeline = \"all\"\n",
    "\n",
    "#can be set to a support workflow or \"all\"\n",
    "#if target_pipeline == \"all\" then this variable is ignored\n",
    "target_workflow = \"all\"\n",
    "\n",
    "pprint(AddonsManager.get_scripts(scripts, target_pipeline, target_workflow))"
   ]
  },
  {
   "cell_type": "markdown",
   "metadata": {},
   "source": [
    "#### Print out a script"
   ]
  },
  {
   "cell_type": "code",
   "execution_count": 12,
   "metadata": {},
   "outputs": [
    {
     "name": "stdout",
     "output_type": "stream",
     "text": [
      "Executing cat /shared/workspace/Pipelines/scripts/RNASeq/star_gatk/gatk_align.sh\n",
      "#################\n",
      "Workflow Specific\n",
      "#################\n"
     ]
    },
    {
     "data": {
      "text/html": [
       "<!DOCTYPE html PUBLIC \"-//W3C//DTD HTML 4.01//EN\"\n",
       "   \"http://www.w3.org/TR/html4/strict.dtd\">\n",
       "\n",
       "<html>\n",
       "<head>\n",
       "  <title></title>\n",
       "  <meta http-equiv=\"content-type\" content=\"text/html; charset=None\">\n",
       "  <style type=\"text/css\">\n",
       "td.linenos { background-color: #f0f0f0; padding-right: 10px; }\n",
       "span.lineno { background-color: #f0f0f0; padding: 0 5px 0 5px; }\n",
       "pre { line-height: 125%; }\n",
       "body .hll { background-color: #ffffcc }\n",
       "body  { background: #f8f8f8; }\n",
       "body .c { color: #408080; font-style: italic } /* Comment */\n",
       "body .err { border: 1px solid #FF0000 } /* Error */\n",
       "body .k { color: #008000; font-weight: bold } /* Keyword */\n",
       "body .o { color: #666666 } /* Operator */\n",
       "body .ch { color: #408080; font-style: italic } /* Comment.Hashbang */\n",
       "body .cm { color: #408080; font-style: italic } /* Comment.Multiline */\n",
       "body .cp { color: #BC7A00 } /* Comment.Preproc */\n",
       "body .cpf { color: #408080; font-style: italic } /* Comment.PreprocFile */\n",
       "body .c1 { color: #408080; font-style: italic } /* Comment.Single */\n",
       "body .cs { color: #408080; font-style: italic } /* Comment.Special */\n",
       "body .gd { color: #A00000 } /* Generic.Deleted */\n",
       "body .ge { font-style: italic } /* Generic.Emph */\n",
       "body .gr { color: #FF0000 } /* Generic.Error */\n",
       "body .gh { color: #000080; font-weight: bold } /* Generic.Heading */\n",
       "body .gi { color: #00A000 } /* Generic.Inserted */\n",
       "body .go { color: #888888 } /* Generic.Output */\n",
       "body .gp { color: #000080; font-weight: bold } /* Generic.Prompt */\n",
       "body .gs { font-weight: bold } /* Generic.Strong */\n",
       "body .gu { color: #800080; font-weight: bold } /* Generic.Subheading */\n",
       "body .gt { color: #0044DD } /* Generic.Traceback */\n",
       "body .kc { color: #008000; font-weight: bold } /* Keyword.Constant */\n",
       "body .kd { color: #008000; font-weight: bold } /* Keyword.Declaration */\n",
       "body .kn { color: #008000; font-weight: bold } /* Keyword.Namespace */\n",
       "body .kp { color: #008000 } /* Keyword.Pseudo */\n",
       "body .kr { color: #008000; font-weight: bold } /* Keyword.Reserved */\n",
       "body .kt { color: #B00040 } /* Keyword.Type */\n",
       "body .m { color: #666666 } /* Literal.Number */\n",
       "body .s { color: #BA2121 } /* Literal.String */\n",
       "body .na { color: #7D9029 } /* Name.Attribute */\n",
       "body .nb { color: #008000 } /* Name.Builtin */\n",
       "body .nc { color: #0000FF; font-weight: bold } /* Name.Class */\n",
       "body .no { color: #880000 } /* Name.Constant */\n",
       "body .nd { color: #AA22FF } /* Name.Decorator */\n",
       "body .ni { color: #999999; font-weight: bold } /* Name.Entity */\n",
       "body .ne { color: #D2413A; font-weight: bold } /* Name.Exception */\n",
       "body .nf { color: #0000FF } /* Name.Function */\n",
       "body .nl { color: #A0A000 } /* Name.Label */\n",
       "body .nn { color: #0000FF; font-weight: bold } /* Name.Namespace */\n",
       "body .nt { color: #008000; font-weight: bold } /* Name.Tag */\n",
       "body .nv { color: #19177C } /* Name.Variable */\n",
       "body .ow { color: #AA22FF; font-weight: bold } /* Operator.Word */\n",
       "body .w { color: #bbbbbb } /* Text.Whitespace */\n",
       "body .mb { color: #666666 } /* Literal.Number.Bin */\n",
       "body .mf { color: #666666 } /* Literal.Number.Float */\n",
       "body .mh { color: #666666 } /* Literal.Number.Hex */\n",
       "body .mi { color: #666666 } /* Literal.Number.Integer */\n",
       "body .mo { color: #666666 } /* Literal.Number.Oct */\n",
       "body .sa { color: #BA2121 } /* Literal.String.Affix */\n",
       "body .sb { color: #BA2121 } /* Literal.String.Backtick */\n",
       "body .sc { color: #BA2121 } /* Literal.String.Char */\n",
       "body .dl { color: #BA2121 } /* Literal.String.Delimiter */\n",
       "body .sd { color: #BA2121; font-style: italic } /* Literal.String.Doc */\n",
       "body .s2 { color: #BA2121 } /* Literal.String.Double */\n",
       "body .se { color: #BB6622; font-weight: bold } /* Literal.String.Escape */\n",
       "body .sh { color: #BA2121 } /* Literal.String.Heredoc */\n",
       "body .si { color: #BB6688; font-weight: bold } /* Literal.String.Interpol */\n",
       "body .sx { color: #008000 } /* Literal.String.Other */\n",
       "body .sr { color: #BB6688 } /* Literal.String.Regex */\n",
       "body .s1 { color: #BA2121 } /* Literal.String.Single */\n",
       "body .ss { color: #19177C } /* Literal.String.Symbol */\n",
       "body .bp { color: #008000 } /* Name.Builtin.Pseudo */\n",
       "body .fm { color: #0000FF } /* Name.Function.Magic */\n",
       "body .vc { color: #19177C } /* Name.Variable.Class */\n",
       "body .vg { color: #19177C } /* Name.Variable.Global */\n",
       "body .vi { color: #19177C } /* Name.Variable.Instance */\n",
       "body .vm { color: #19177C } /* Name.Variable.Magic */\n",
       "body .il { color: #666666 } /* Literal.Number.Integer.Long */\n",
       "\n",
       "  </style>\n",
       "</head>\n",
       "<body>\n",
       "<h2></h2>\n",
       "\n",
       "<div class=\"highlight\"><pre><span></span><span class=\"ch\">#!/bin/bash</span>\n",
       "\n",
       "<span class=\"nv\">project_name</span><span class=\"o\">=</span><span class=\"nv\">$1</span>\n",
       "<span class=\"nv\">workflow</span><span class=\"o\">=</span><span class=\"nv\">$2</span>\n",
       "<span class=\"nv\">file_suffix</span><span class=\"o\">=</span><span class=\"nv\">$3</span>  <span class=\"c1\">#extension of input file, does not include .gz if present in input</span>\n",
       "<span class=\"nv\">root_dir</span><span class=\"o\">=</span><span class=\"nv\">$4</span>\n",
       "<span class=\"nv\">fastq_end1</span><span class=\"o\">=</span><span class=\"nv\">$5</span>\n",
       "<span class=\"nv\">fastq_end2</span><span class=\"o\">=</span><span class=\"nv\">$6</span>\n",
       "<span class=\"nv\">input_address</span><span class=\"o\">=</span><span class=\"nv\">$7</span>    <span class=\"c1\">#this is an s3 address e.g. s3://path/to/input/directory</span>\n",
       "<span class=\"nv\">output_address</span><span class=\"o\">=</span><span class=\"nv\">$8</span>   <span class=\"c1\">#this is an s3 address e.g. s3://path/to/output/directory</span>\n",
       "<span class=\"nv\">log_dir</span><span class=\"o\">=</span><span class=\"nv\">$9</span>\n",
       "<span class=\"nv\">is_zipped</span><span class=\"o\">=</span><span class=\"si\">${</span><span class=\"nv\">10</span><span class=\"si\">}</span>    <span class=\"c1\">#either &quot;True&quot; or &quot;False&quot;, indicates whether input is gzipped</span>\n",
       "<span class=\"nv\">num_threads</span><span class=\"o\">=</span><span class=\"si\">${</span><span class=\"nv\">11</span><span class=\"si\">}</span>    <span class=\"c1\">#number of threads</span>\n",
       "\n",
       "<span class=\"c1\">#logging</span>\n",
       "<span class=\"nv\">log_dir</span><span class=\"o\">=</span><span class=\"nv\">$log_dir</span>/<span class=\"nv\">$fastq_end1</span>\n",
       "mkdir -p <span class=\"nv\">$log_dir</span>\n",
       "<span class=\"nv\">log_file</span><span class=\"o\">=</span><span class=\"nv\">$log_dir</span>/<span class=\"s1\">&#39;gatk_align.log&#39;</span>\n",
       "<span class=\"nb\">exec</span> <span class=\"m\">1</span>&gt;&gt;<span class=\"nv\">$log_file</span>\n",
       "<span class=\"nb\">exec</span> <span class=\"m\">2</span>&gt;&gt;<span class=\"nv\">$log_file</span>\n",
       "\n",
       "<span class=\"nv\">status_file</span><span class=\"o\">=</span><span class=\"nv\">$log_dir</span>/<span class=\"s1\">&#39;status.log&#39;</span>\n",
       "touch <span class=\"nv\">$status_file</span>\n",
       "\n",
       "<span class=\"c1\">#prepare output directories</span>\n",
       "<span class=\"nv\">workspace</span><span class=\"o\">=</span><span class=\"nv\">$root_dir</span>/<span class=\"nv\">$project_name</span>/<span class=\"nv\">$workflow</span>/<span class=\"nv\">$fastq_end1</span>\n",
       "mkdir -p <span class=\"nv\">$workspace</span>\n",
       "\n",
       "<span class=\"nb\">echo</span> <span class=\"s2\">&quot;%%%%%%%%%%%%%%%%%%%%%%%%%%%%%%%%%%%%&quot;</span>\n",
       "date\n",
       "<span class=\"nb\">echo</span> <span class=\"s2\">&quot;%%%%%%%%%%%%%%%%%%%%%%%%%%%%%%%%%%%%&quot;</span>\n",
       "\n",
       "check_step_already_done <span class=\"nv\">$JOB_NAME</span> <span class=\"nv\">$status_file</span>\n",
       "\n",
       "<span class=\"c1\">##DOWNLOAD##</span>\n",
       "<span class=\"k\">if</span> <span class=\"o\">[</span> ! -f <span class=\"nv\">$workspace</span>/<span class=\"nv\">$fastq_end1$file_suffix</span> <span class=\"o\">]</span>\n",
       "<span class=\"k\">then</span>\n",
       "    <span class=\"c1\">#this is the suffix of the input from s3</span>\n",
       "    <span class=\"nv\">download_suffix</span><span class=\"o\">=</span><span class=\"nv\">$file_suffix</span>\n",
       "\n",
       "    <span class=\"c1\">#always download forward reads</span>\n",
       "    check_exit_status <span class=\"s2\">&quot;aws s3 cp </span><span class=\"nv\">$input_address</span><span class=\"s2\">/</span><span class=\"nv\">$fastq_end1$download_suffix</span><span class=\"s2\"> </span><span class=\"nv\">$workspace</span><span class=\"s2\">/&quot;</span> <span class=\"nv\">$JOB_NAME</span> <span class=\"nv\">$status_file</span>\n",
       "\n",
       "    <span class=\"c1\">#download reverse reads if they exist</span>\n",
       "    <span class=\"k\">if</span> <span class=\"o\">[</span> <span class=\"s2\">&quot;</span><span class=\"nv\">$fastq_end2</span><span class=\"s2\">&quot;</span> !<span class=\"o\">=</span> <span class=\"s2\">&quot;NULL&quot;</span> <span class=\"o\">]</span>\n",
       "    <span class=\"k\">then</span>\n",
       "        check_exit_status <span class=\"s2\">&quot;aws s3 cp </span><span class=\"nv\">$input_address</span><span class=\"s2\">/</span><span class=\"nv\">$fastq_end2$download_suffix</span><span class=\"s2\"> </span><span class=\"nv\">$workspace</span><span class=\"s2\">/&quot;</span> <span class=\"nv\">$JOB_NAME</span> <span class=\"nv\">$status_file</span>\n",
       "    <span class=\"k\">fi</span>\n",
       "<span class=\"k\">fi</span>\n",
       "<span class=\"c1\">##END_DOWNLOAD##</span>\n",
       "\n",
       "<span class=\"c1\"># Star align</span>\n",
       "<span class=\"k\">if</span> <span class=\"o\">[</span> <span class=\"s2\">&quot;</span><span class=\"nv\">$fastq_end2</span><span class=\"s2\">&quot;</span> <span class=\"o\">==</span> <span class=\"s2\">&quot;NULL&quot;</span> <span class=\"o\">]</span>\n",
       "<span class=\"k\">then</span>\n",
       "    check_exit_status <span class=\"s2\">&quot;</span><span class=\"nv\">$STAR</span><span class=\"s2\"> --runThreadN </span><span class=\"nv\">$num_threads</span><span class=\"s2\"> --genomeDir </span><span class=\"nv\">$human_genome</span><span class=\"s2\"> \\</span>\n",
       "<span class=\"s2\">    --twopassMode Basic --readFilesIn </span><span class=\"nv\">$workspace</span><span class=\"s2\">/</span><span class=\"nv\">$fastq_end1$file_suffix</span><span class=\"s2\"> \\</span>\n",
       "<span class=\"s2\">    --outFileNamePrefix </span><span class=\"nv\">$workspace</span><span class=\"s2\">/</span><span class=\"nv\">$fastq_end1</span><span class=\"s2\">.&quot;</span> <span class=\"nv\">$JOB_NAME</span> <span class=\"nv\">$status_file</span>\n",
       "\n",
       "<span class=\"k\">else</span>\n",
       "    check_exit_status <span class=\"s2\">&quot;</span><span class=\"nv\">$STAR</span><span class=\"s2\"> --runThreadN </span><span class=\"nv\">$num_threads</span><span class=\"s2\"> --genomeDir </span><span class=\"nv\">$human_genome</span><span class=\"s2\"> \\</span>\n",
       "<span class=\"s2\">    --twopassMode Basic --readFilesIn </span><span class=\"nv\">$workspace</span><span class=\"s2\">/</span><span class=\"nv\">$fastq_end1$file_suffix</span><span class=\"s2\"> </span><span class=\"nv\">$workspace</span><span class=\"s2\">/</span><span class=\"nv\">$fastq_end2$file_suffix</span><span class=\"s2\"> \\</span>\n",
       "<span class=\"s2\">    --outFileNamePrefix </span><span class=\"nv\">$workspace</span><span class=\"s2\">/</span><span class=\"nv\">$fastq_end1</span><span class=\"s2\">.&quot;</span> <span class=\"nv\">$JOB_NAME</span> <span class=\"nv\">$status_file</span>\n",
       "<span class=\"k\">fi</span>\n",
       "\n",
       "<span class=\"k\">if</span> <span class=\"o\">[</span> ! -f <span class=\"nv\">$workspace</span>/<span class=\"nv\">$fastq_end1</span>.<span class=\"s2\">&quot;Aligned.out.bam&quot;</span> <span class=\"o\">]</span><span class=\"p\">;</span> <span class=\"k\">then</span>\n",
       "   check_exit_status <span class=\"s2\">&quot;</span><span class=\"nv\">$samtools</span><span class=\"s2\"> view -Sb </span><span class=\"nv\">$workspace</span><span class=\"s2\">/</span><span class=\"nv\">$fastq_end1</span><span class=\"s2\">.&quot;</span>Aligned.out.sam<span class=\"s2\">&quot; \\</span>\n",
       "<span class=\"s2\">   &gt; </span><span class=\"nv\">$workspace</span><span class=\"s2\">/</span><span class=\"nv\">$fastq_end1</span><span class=\"s2\">.&quot;</span>Aligned.out.bam<span class=\"s2\">&quot;&quot;</span> <span class=\"nv\">$JOB_NAME</span> <span class=\"nv\">$status_file</span>\n",
       "<span class=\"k\">fi</span>\n",
       "\n",
       "<span class=\"k\">if</span> <span class=\"o\">[</span> ! -f <span class=\"nv\">$workspace</span>/<span class=\"nv\">$fastq_end1</span>.<span class=\"s2\">&quot;Aligned.out.sorted.bam&quot;</span> <span class=\"o\">]</span><span class=\"p\">;</span> <span class=\"k\">then</span>\n",
       "   check_exit_status <span class=\"s2\">&quot;</span><span class=\"nv\">$samtools</span><span class=\"s2\"> sort -m 2G -@ 4 </span><span class=\"nv\">$workspace</span><span class=\"s2\">/</span><span class=\"nv\">$fastq_end1</span><span class=\"s2\">.&quot;</span>Aligned.out.bam<span class=\"s2\">&quot; \\</span>\n",
       "<span class=\"s2\">   </span><span class=\"nv\">$workspace</span><span class=\"s2\">/</span><span class=\"nv\">$fastq_end1</span><span class=\"s2\">.&quot;</span>Aligned.out.sorted<span class=\"s2\">&quot;&quot;</span> <span class=\"nv\">$JOB_NAME</span> <span class=\"nv\">$status_file</span>\n",
       "<span class=\"k\">fi</span>\n",
       "\n",
       "<span class=\"k\">if</span> <span class=\"o\">[</span> ! -f <span class=\"nv\">$workspace</span>/<span class=\"nv\">$fastq_end1</span>.<span class=\"s2\">&quot;Aligned.out.sorted.bam.bai&quot;</span> <span class=\"o\">]</span><span class=\"p\">;</span> <span class=\"k\">then</span>\n",
       "   check_exit_status <span class=\"s2\">&quot;</span><span class=\"nv\">$samtools</span><span class=\"s2\"> index </span><span class=\"nv\">$workspace</span><span class=\"s2\">/</span><span class=\"nv\">$fastq_end1</span><span class=\"s2\">.&quot;</span>Aligned.out.sorted.bam<span class=\"s2\">&quot;&quot;</span> <span class=\"nv\">$JOB_NAME</span> <span class=\"nv\">$status_file</span>\n",
       "<span class=\"k\">fi</span>\n",
       "<span class=\"c1\"># End star align</span>\n",
       "\n",
       "<span class=\"c1\"># TODO: Perform samtools stats, for multiqc purposes</span>\n",
       "check_exit_status <span class=\"s2\">&quot;</span><span class=\"nv\">$samtools</span><span class=\"s2\"> stats </span><span class=\"nv\">$workspace</span><span class=\"s2\">/</span><span class=\"nv\">$fastq_end1</span><span class=\"s2\">.Aligned.out.sorted.bam &gt; </span><span class=\"nv\">$workspace</span><span class=\"s2\">/</span><span class=\"nv\">$fastq_end1</span><span class=\"s2\">.txt&quot;</span> <span class=\"nv\">$JOB_NAME</span> <span class=\"nv\">$status_file</span>\n",
       "<span class=\"k\">if</span> <span class=\"o\">[</span> -f <span class=\"nv\">$workspace</span>/<span class=\"nv\">$fastq_end1</span>.txt <span class=\"o\">]</span>\n",
       "<span class=\"k\">then</span>\n",
       "    <span class=\"nb\">echo</span> <span class=\"s2\">&quot;Finished samtools stats&quot;</span>\n",
       "<span class=\"k\">else</span>\n",
       "    <span class=\"nb\">echo</span> <span class=\"s2\">&quot;Failed samtools stats&quot;</span>\n",
       "<span class=\"k\">fi</span>\n",
       "\n",
       "<span class=\"c1\"># Upload</span>\n",
       "aws s3 cp <span class=\"nv\">$workspace</span> <span class=\"nv\">$output_address</span>/ --exclude <span class=\"s2\">&quot;*&quot;</span> --include <span class=\"s2\">&quot;*.Aligned*&quot;</span> --exclude <span class=\"s2\">&quot;*.sam*&quot;</span> --recursive\n",
       "<span class=\"c1\">##END_UPLOAD##</span>\n",
       "</pre></div>\n",
       "</body>\n",
       "</html>\n"
      ],
      "text/plain": [
       "<IPython.core.display.HTML object>"
      ]
     },
     "metadata": {},
     "output_type": "display_data"
    }
   ],
   "source": [
    "#all targets must be set to a valid pipeline/workflow/script\n",
    "#use cells above to check valid options\n",
    "\n",
    "target_pipeline = \"RNASeq\"\n",
    "target_workflow = \"star_gatk\"\n",
    "target_script = \"gatk_align.sh\"\n",
    "\n",
    "loc, file_cat = AddonsManager.cat_script(ssh_client, scripts, target_pipeline, target_workflow, target_script)\n",
    "\n",
    "print(\"\".join([\"#\"]*len(loc)) + \"\\n{}\\n\".format(loc) + \"\".join([\"#\"]*len(loc)))\n",
    "AddonsManager.show_script(file_cat)"
   ]
  },
  {
   "cell_type": "markdown",
   "metadata": {},
   "source": [
    "#### Check which step calls a script"
   ]
  },
  {
   "cell_type": "code",
   "execution_count": 4,
   "metadata": {},
   "outputs": [
    {
     "name": "stdout",
     "output_type": "stream",
     "text": [
      "fastqc.sh called from:\n",
      "fastqc in all Pipelines\n",
      "\n"
     ]
    }
   ],
   "source": [
    "#should be the name of a shell script on the cluster (include sh extension)\n",
    "target_script = \"fastqc.sh\"\n",
    "\n",
    "print(AddonsManager.get_steps_calling_script(ssh_client, scripts, target_script))"
   ]
  },
  {
   "cell_type": "markdown",
   "metadata": {},
   "source": [
    "#### Check configuation entries for a step"
   ]
  },
  {
   "cell_type": "code",
   "execution_count": 15,
   "metadata": {},
   "outputs": [
    {
     "name": "stdout",
     "output_type": "stream",
     "text": [
      "Executing cat /shared/workspace/Pipelines/config/tools.yaml\n",
      "Executing python /shared/workspace/Pipelines/util/GetAllSpecificConfs.py\n",
      "Executing cat /shared/workspace/Pipelines/scripts/RNASeq/star_gatk/gatk_align.sh\n",
      "\n",
      "tools.yaml configuration entry for star_gatk_align step:\n",
      "can_be_zipped: false\n",
      "download_suffix: .trim{}\n",
      "input_is_output: true\n",
      "script_path: RNASeq/star_gatk/gatk_align\n",
      "uses_chromosomes: false\n",
      "\n",
      "\n",
      "RNASeq_star_gatk.yaml configuration entry for star_gatk_align step:\n",
      "star_gatk_align:\n",
      "- 4\n",
      "Argument 1 is num_threads\n",
      "\n",
      "\n"
     ]
    }
   ],
   "source": [
    "step_name = \"star_gatk_align\"\n",
    "step_tool_config, step_specific_config = AddonsManager.get_step_config_dicts(ssh_client, scripts, step_name)\n",
    "print(AddonsManager.get_step_config(ssh_client, scripts, step_name, step_tool_config, step_specific_config))"
   ]
  },
  {
   "cell_type": "markdown",
   "metadata": {},
   "source": [
    "### Edit Configuration Files and Scripts"
   ]
  },
  {
   "cell_type": "markdown",
   "metadata": {},
   "source": [
    "#### Edit tools.yaml configuration entry for a step"
   ]
  },
  {
   "cell_type": "code",
   "execution_count": 7,
   "metadata": {},
   "outputs": [
    {
     "name": "stdout",
     "output_type": "stream",
     "text": [
      "Executing cat /shared/workspace/Pipelines/config/tools.yaml\n",
      "Executing mv -n /shared/workspace/Pipelines/config/tools.yaml /shared/workspace/Pipelines/config/tools.yaml.BACKUP\n",
      "/home/mustafa/ccbb/cirrus-ngs/notebooks/cirrus-ngs/tools.yaml\n",
      "/shared/workspace/Pipelines/config/tools.yaml\n"
     ]
    }
   ],
   "source": [
    "step_name = \"fastqc\"\n",
    "\n",
    "new_step_tools_conf = {\n",
    "    \"can_be_zipped\":False,\n",
    "    \"download_suffix\":None,\n",
    "    \"input_is_output\":False,\n",
    "    \"script_path\":\"fastqc\",\n",
    "    \"uses_chromosomes\":False,\n",
    "    #<=1 of the following should be True\n",
    "    \"all_samples\":False,\n",
    "    \"by_pair\": False,\n",
    "    \"by_group\":False\n",
    "}\n",
    "\n",
    "AddonsManager.edit_step_tools_config(ssh_client, new_step_tools_conf, step_name)"
   ]
  },
  {
   "cell_type": "markdown",
   "metadata": {},
   "source": [
    "#### Edit pipeline/workflow specific configuration entry for a step"
   ]
  },
  {
   "cell_type": "code",
   "execution_count": 14,
   "metadata": {},
   "outputs": [
    {
     "name": "stdout",
     "output_type": "stream",
     "text": [
      "Executing cat /shared/workspace/Pipelines/config/DNASeq/DNASeq_bwa_mutect.yaml\n",
      "Executing mv -n /shared/workspace/Pipelines/config/DNASeq/DNASeq_bwa_mutect.yaml /shared/workspace/Pipelines/config/DNASeq/DNASeq_bwa_mutect.yaml.BACKUP\n",
      "/home/mustafa/ccbb/cirrus-ngs/notebooks/cirrus-ngs/DNASeq_bwa_mutect.yaml\n",
      "/shared/workspace/Pipelines/config/DNASeq/DNASeq_bwa_mutect.yaml\n"
     ]
    }
   ],
   "source": [
    "step_name = \"fastqc\"\n",
    "target_pipeline = \"DNASeq\"\n",
    "target_workflow = \"bwa_mutect\"\n",
    "\n",
    "new_extra_bash_arguments = [1, 36]\n",
    "\n",
    "AddonsManager.edit_step_specific_config(ssh_client, \n",
    "                                        target_pipeline, target_workflow, new_extra_bash_arguments, step_name)"
   ]
  },
  {
   "cell_type": "markdown",
   "metadata": {},
   "source": [
    "#### Edit script for a step"
   ]
  },
  {
   "cell_type": "markdown",
   "metadata": {},
   "source": [
    "Run first two cells, then edit in third cell.\n",
    "After editing is finished run the third and fourth cells to save and upload new script."
   ]
  },
  {
   "cell_type": "code",
   "execution_count": 9,
   "metadata": {},
   "outputs": [
    {
     "name": "stdout",
     "output_type": "stream",
     "text": [
      "Executing cat /shared/workspace/Pipelines/scripts/fastqc.sh\n"
     ]
    },
    {
     "data": {
      "text/plain": [
       "'%%writefile fastqc.sh\\n#!/bin/bash\\n\\nproject_name=$1\\nworkflow=$2\\nfile_suffix=$3  #extension of input file, does not include .gz if present in input\\nroot_dir=$4\\nfastq_end1=$5\\nfastq_end2=$6\\ninput_address=$7    #this is an s3 address e.g. s3://path/to/input/directory\\noutput_address=$8   #this is an s3 address e.g. s3://path/to/output/directory\\nlog_dir=$9\\nis_zipped=${10}    #either \"True\" or \"False\", indicates whether input is gzipped\\n\\n#logging\\nlog_dir=$log_dir/$fastq_end1\\nmkdir -p $log_dir\\nlog_file=$log_dir/\\'fastqc.log\\'\\nexec 1>>$log_file\\nexec 2>>$log_file\\n\\nstatus_file=$log_dir/\\'status.log\\'\\ntouch $status_file\\n\\n#prepare output directories\\nworkspace=$root_dir/$project_name/$workflow/$fastq_end1\\nmkdir -p $workspace\\n\\necho \"%%%%%%%%%%%%%%%%%%%%%%%%%%%%%%%%%%%%\"\\ndate\\necho \"%%%%%%%%%%%%%%%%%%%%%%%%%%%%%%%%%%%%\"\\n\\ncheck_step_already_done $JOB_NAME $status_file\\n\\n##DOWNLOAD##\\nif [ ! -f $workspace/$fastq_end1$file_suffix ]\\nthen\\n    #this is the suffix of the input from s3\\n    download_suffix=$file_suffix\\n\\n    #changes extension if S3 input is zipped\\n    if [ \"$is_zipped\" == \"True\" ]\\n    then\\n        download_suffix=$file_suffix\".gz\"\\n    fi\\n\\n    #always download forward reads\\n    check_exit_status \"aws s3 cp $input_address/$fastq_end1$download_suffix $workspace/\" $JOB_NAME $status_file\\n    gunzip -q $workspace/$fastq_end1$download_suffix\\n\\n    #download reverse reads if they exist\\n    if [ \"$fastq_end2\" != \"NULL\" ]\\n    then\\n        check_exit_status \"aws s3 cp $input_address/$fastq_end2$download_suffix $workspace/\" $JOB_NAME $status_file\\n        gunzip -q $workspace/$fastq_end2$download_suffix\\n    fi\\nfi\\n##END_DOWNLOAD##\\n\\n\\n##FASTQC##\\ncheck_exit_status \"$fastqc $workspace/$fastq_end1$file_suffix -o $workspace/\" $JOB_NAME $status_file\\nmv $workspace/$fastq_end1$file_suffix\"_fastqc.html\" $workspace/$fastq_end1\"_fastqc.html\" 2>/dev/null\\nmv $workspace/$fastq_end1$file_suffix\"_fastqc.zip\" $workspace/$fastq_end1\"_fastqc.zip\" 2>/dev/null\\n\\nif [ \"$fastq_end2\" != \"NULL\" ];\\nthen\\n    check_exit_status \"$fastqc $workspace/$fastq_end2$file_suffix -o $workspace/\" $JOB_NAME $status_file\\n    mv $workspace/$fastq_end2$file_suffix\"_fastqc.html\" $workspace/$fastq_end2\"_fastqc.html\" 2>/dev/null\\n    mv $workspace/$fastq_end2$file_suffix\"_fastqc.zip\" $workspace/$fastq_end2\"_fastqc.zip\" 2>/dev/null\\nfi\\n##END_FASTQC##\\n\\n\\n##UPLOAD##\\ninclude_end1=$fastq_end1\"_fastqc*\"\\ninclude_end2=$fastq_end2\"_fastqc*\"\\naws s3 cp $workspace $output_address --exclude \"*\" --include \"$include_end1\" --include \"$include_end2\" --recursive\\n##END_UPLOAD##\\n'"
      ]
     },
     "execution_count": 9,
     "metadata": {},
     "output_type": "execute_result"
    }
   ],
   "source": [
    "#Run next two cells right after one another\n",
    "#a new cell with the target script will be created, edit the script in that cell and run it after editing is finished\n",
    "\n",
    "#all targets must be set to a valid pipeline/workflow/script\n",
    "#use cells above to check valid options\n",
    "\n",
    "target_pipeline = \"DNASeq\"\n",
    "target_workflow = \"bwa_gatk\"\n",
    "target_script = \"fastqc.sh\"\n",
    "\n",
    "AddonsManager.edit_script(ssh_client, scripts, target_pipeline, target_workflow, target_script)"
   ]
  },
  {
   "cell_type": "code",
   "execution_count": 10,
   "metadata": {
    "collapsed": true
   },
   "outputs": [],
   "source": [
    "%recall"
   ]
  },
  {
   "cell_type": "code",
   "execution_count": 12,
   "metadata": {},
   "outputs": [
    {
     "name": "stdout",
     "output_type": "stream",
     "text": [
      "Executing mv -n /shared/workspace/Pipelines/scripts/fastqc.sh /shared/workspace/Pipelines/scripts/fastqc.sh.BACKUP\n",
      "/home/mustafa/ccbb/cirrus-ngs/notebooks/cirrus-ngs/fastqc.sh\n",
      "/shared/workspace/Pipelines/scripts/fastqc.sh\n"
     ]
    }
   ],
   "source": [
    "#set either target to \"all\" if script applies to all pipelines or all workflows in a pipeline\n",
    "target_pipeline = \"all\"\n",
    "target_workflow = \"\"\n",
    "\n",
    "script_name = \"fastqc.sh\"\n",
    "\n",
    "AddonsManager.upload_script(ssh_client, target_pipeline, target_workflow, script_name)"
   ]
  },
  {
   "cell_type": "code",
   "execution_count": 4,
   "metadata": {},
   "outputs": [
    {
     "data": {
      "text/plain": [
       "'#!/bin/bash\\n\\nproject_name=$1\\nworkflow=$2\\nfile_suffix=$3\\nroot_dir=$4\\nfastq_end1=$5\\nfastq_end2=$6\\ninput_address=$7\\noutput_address=$8\\nlog_dir=$9\\nis_zipped=${10}\\n{EXTRA ARGUMENTS HERE}\\n\\n#logging\\nlog_dir=$log_dir/fastq_end1\\nmkdir -p $log_dir\\nlog_file=$log_dir/{LOG FILE NAME HERE}\\nexec 1>>$log_file\\nexec 2>>$log_file\\n\\nstatus_file=$log_dir/\\'status.log\\'\\ntouch $status_file\\n\\n#prepare output directories\\nworkspace=$root_dir/$project_name/$workflow/$fastq_end1\\nmkdir -p $workspace\\n\\necho \"%%%%%%%%%%%%%%%%%%%%%%%%%%%%%%%%%%%%\"\\ndate\\necho \"%%%%%%%%%%%%%%%%%%%%%%%%%%%%%%%%%%%%\"\\n\\ncheck_step_already_done $JOB_NAME $status_file\\n\\n##DOWNLOAD##\\nif [ ! -f $workspace/$fastq_end1$file_suffix ]\\nthen\\n    download_suffix=$file_suffix\\n\\n    if [ \"$is_zipped\" == \"True\" ]\\n    then\\n        download_suffix=$file_suffix\".gz\"\\n    fi\\n\\n    check_exit_status \"aws s3 cp $input_address/$fastq_end1$download_suffix $workspace/\" $JOB_NAME $status_file\\n    gunzip -q $workspace/$fastq_end1$download_suffix\\n\\n    if [ \"$fastq_end2\" != \"NULL\" ]\\n    then\\n        check_exit_status \"aws s3 cp $input_address/$fastq_end2$download_suffix $workspace/\" $JOB_NAME $status_file\\n        gunzip -q $workspace/$fastq_end2$download_suffix\\n    fi\\nfi\\n##END_DOWNLOAD##\\n\\n\\n##TOOL##\\ncheck_exit_status \"{TOOL CALL HERE}\" $JOB_NAME $status_file\\n##END_TOOL##\\n\\n\\n##UPLOAD##\\n#can use multiple includes if needed \\naws s3 cp $workspace $output_address/ --exclude \"*\" --include \"{GLOB FOR OUTPUT FILES HERE}\" --recursive\\n##END_UPLOAD##\\n'"
      ]
     },
     "execution_count": 4,
     "metadata": {},
     "output_type": "execute_result"
    }
   ],
   "source": [
    "AddonsManager.shell_script_template"
   ]
  },
  {
   "cell_type": "code",
   "execution_count": 5,
   "metadata": {
    "collapsed": true
   },
   "outputs": [],
   "source": [
    "%recall"
   ]
  },
  {
   "cell_type": "markdown",
   "metadata": {},
   "source": [
    "These cells add configuration entries to the new shell script"
   ]
  },
  {
   "cell_type": "code",
   "execution_count": 38,
   "metadata": {},
   "outputs": [
    {
     "name": "stdout",
     "output_type": "stream",
     "text": [
      "Executing cat /shared/workspace/Pipelines/config/DNASeq/DNASeq_bwa_mutect.yaml\n",
      "Executing mv -n /shared/workspace/Pipelines/config/DNASeq/DNASeq_bwa_mutect.yaml /shared/workspace/Pipelines/config/DNASeq/DNASeq_bwa_mutect.yaml.BACKUP\n",
      "/home/mustafa/ccbb/cirrus-ngs/notebooks/cirrus-ngs/DNASeq_bwa_mutect.yaml\n",
      "/shared/workspace/Pipelines/config/DNASeq/DNASeq_bwa_mutect.yaml\n",
      "Executing cat /shared/workspace/Pipelines/config/tools.yaml\n",
      "Executing mv -n /shared/workspace/Pipelines/config/tools.yaml /shared/workspace/Pipelines/config/tools.yaml.BACKUP\n",
      "/home/mustafa/ccbb/cirrus-ngs/notebooks/cirrus-ngs/tools.yaml\n",
      "/shared/workspace/Pipelines/config/tools.yaml\n"
     ]
    }
   ],
   "source": [
    "step_name = \"trim\"\n",
    "\n",
    "target_pipeline = \"DNASeq\"\n",
    "target_workflow = \"bwa_mutect\"\n",
    "\n",
    "new_step_tools_conf = {\n",
    "    \"can_be_zipped\":False,\n",
    "    \"download_suffix\":None,\n",
    "    \"input_is_output\":False,\n",
    "    \"script_path\":\"trim\",\n",
    "    \"uses_chromosomes\":False\n",
    "    #<=1 of the following should be True\n",
    "#     \"all_samples\":False,\n",
    "#     \"by_pair\": False,\n",
    "#     \"by_group\":False\n",
    "}\n",
    "\n",
    "new_extra_bash_arguments = [1, 1]\n",
    "AddonsManager.edit_step_specific_config(ssh_client, \n",
    "                                        target_pipeline, target_workflow, new_extra_bash_arguments, step_name)\n",
    "AddonsManager.edit_step_tools_config(ssh_client, new_step_tools_conf, step_name)"
   ]
  },
  {
   "cell_type": "code",
   "execution_count": 16,
   "metadata": {},
   "outputs": [
    {
     "name": "stdout",
     "output_type": "stream",
     "text": [
      "Executing python /shared/workspace/Pipelines/util/RestoreBackups.py\n"
     ]
    }
   ],
   "source": [
    "AddonsManager.restore_backups(ssh_client)"
   ]
  },
  {
   "cell_type": "markdown",
   "metadata": {},
   "source": [
    "### Check Software on Cluster"
   ]
  },
  {
   "cell_type": "markdown",
   "metadata": {},
   "source": [
    "This section is used to check what software is installed on the cluster."
   ]
  },
  {
   "cell_type": "markdown",
   "metadata": {},
   "source": [
    "#### Get all software installed on cluster"
   ]
  },
  {
   "cell_type": "code",
   "execution_count": 16,
   "metadata": {},
   "outputs": [
    {
     "name": "stdout",
     "output_type": "stream",
     "text": [
      "Executing python /shared/workspace/Pipelines/util/GetSoftware.py\n",
      "All Installed Software: \n",
      "{'FastQC': ['0.11.3'],\n",
      " 'HTSeq': ['0.9.1 (installed with pip)'],\n",
      " 'MultiQC': ['1.3 (installed with conda)'],\n",
      " 'RSEM': ['1.3.0'],\n",
      " 'STAR': ['2.3.0e', '2.5.1a', '2.5.3a'],\n",
      " 'Trimmomatic': ['0.36'],\n",
      " 'bedtools2': ['2.19.1'],\n",
      " 'blat': ['36x1'],\n",
      " 'bowtie': ['1.0.1'],\n",
      " 'bowtie2': ['2.3.3-linux', '2.3.2-legacy'],\n",
      " 'bwa': ['0.7.12-r1039'],\n",
      " 'cutadapt': ['1.14 (installed with conda)'],\n",
      " 'gatk': ['3.8-0'],\n",
      " 'ghostscript': ['9.19'],\n",
      " 'homer': ['4.8.3'],\n",
      " 'java': ['jre1.8.0_144'],\n",
      " 'kallisto': ['0.43.1'],\n",
      " 'picard': ['1.96'],\n",
      " 'sambamba': ['0.4.7'],\n",
      " 'samblaster': ['0.1.21'],\n",
      " 'samtools': ['1.1'],\n",
      " 'tabix': ['0.2.6'],\n",
      " 'vcftools': ['0.1.12b'],\n",
      " 'weblogo': ['2.8']}\n"
     ]
    }
   ],
   "source": [
    "software = AddonsManager.get_software_dict(ssh_client)\n",
    "print(\"All Installed Software: \")\n",
    "pprint(software)"
   ]
  },
  {
   "cell_type": "markdown",
   "metadata": {},
   "source": [
    "#### Check the version of a specific tool"
   ]
  },
  {
   "cell_type": "code",
   "execution_count": 27,
   "metadata": {},
   "outputs": [
    {
     "name": "stdout",
     "output_type": "stream",
     "text": [
      "Did you mean samtools or vcftools or bedtools2?\n"
     ]
    }
   ],
   "source": [
    "#ignores case\n",
    "target_tool = \"tools\"\n",
    "\n",
    "print(AddonsManager.check_tool_is_installed(software, target_tool))"
   ]
  },
  {
   "cell_type": "code",
   "execution_count": null,
   "metadata": {
    "collapsed": true
   },
   "outputs": [],
   "source": []
  },
  {
   "cell_type": "code",
   "execution_count": null,
   "metadata": {
    "collapsed": true
   },
   "outputs": [],
   "source": []
  }
 ],
 "metadata": {
  "kernelspec": {
   "display_name": "Python 3",
   "language": "python",
   "name": "python3"
  },
  "language_info": {
   "codemirror_mode": {
    "name": "ipython",
    "version": 3
   },
   "file_extension": ".py",
   "mimetype": "text/x-python",
   "name": "python",
   "nbconvert_exporter": "python",
   "pygments_lexer": "ipython3",
   "version": "3.6.1"
  }
 },
 "nbformat": 4,
 "nbformat_minor": 2
}
