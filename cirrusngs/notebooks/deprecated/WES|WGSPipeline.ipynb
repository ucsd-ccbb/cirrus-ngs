{
 "cells": [
  {
   "cell_type": "markdown",
   "metadata": {},
   "source": [
    "# WES|WGSPipeline "
   ]
  },
  {
   "cell_type": "markdown",
   "metadata": {},
   "source": [
    "## Be sure to install paramiko and scp with pip before using this notebook"
   ]
  },
  {
   "cell_type": "markdown",
   "metadata": {},
   "source": [
    "## 1. Configure AWS key pair, data location on S3 and the project information"
   ]
  },
  {
   "cell_type": "markdown",
   "metadata": {},
   "source": [
    "This cell only contains information that you, the user, should input.\n",
    "\n",
    "#### String Fields\n",
    "\n",
    "**s3_input_files_address**: This is an s3 path to where your input fastq files are found. This shouldn't be the path to the actual fastq files, just to the directory containing all of them. All fastq files must be in the same s3 bucket.\n",
    "\n",
    "**s3_output_files_address**: This is an s3 path to where you would like the outputs from your project to be uploaded. This will only be the root directory, please see the README for information about exactly how outputs are structured\n",
    "\n",
    "**design_file**: This is a path to your design file for this project. Please see the README for the format specification for the design files. \n",
    "\n",
    "**your_cluster_name**: This is the name given to your cluster when it was created using cfncluster. \n",
    "\n",
    "**private_key**: The path to your private key needed to access your cluster.\n",
    "\n",
    "**project_name**: Name of your project. There should be no whitespace.\n",
    "\n",
    "**workflow**: The workflow you want to run for this project. For the DNASeq pipeline the possible workflows are \"bwa_gatk\" and \"bwa_mutect\". \n",
    "\n",
    "**genome**: The name of the reference you want to use for your project. Currently only \"hg19\" and \"GRCm38\" are supported here.\n",
    "\n",
    "#### analysis_steps\n",
    "This is a set of strings that contains the steps you would like to run. The order of the steps does not matter.\n",
    "\n",
    "posible bwa_gatk steps: \"fastqc\", \"trim\", \"align\", \"multiqc\", \"sort\", \"dedup\", \"split\", \"postalignment\", \"haplotype\", \"merge\", \"combine_vcf\"\n",
    "\n",
    "possible bwa_mutect steps: \"fastqc\", \"trim\" , \"align\", \"multiqc\", \"sort\", \"dedup\", \"split\", \"postalignment\",\n",
    "\"somatic_variant_calling\", \"merge\""
   ]
  },
  {
   "cell_type": "code",
   "execution_count": 1,
   "metadata": {},
   "outputs": [
    {
     "name": "stdout",
     "output_type": "stream",
     "text": [
      "variables set\n"
     ]
    }
   ],
   "source": [
    "import os\n",
    "import sys\n",
    "sys.path.append(\"../../src/cirrus_ngs\")\n",
    "from cfnCluster import CFNClusterManager, ConnectionManager\n",
    "from util import PipelineManager\n",
    "from util import DesignFileLoader\n",
    "\n",
    "#s3 address of input files and output files\n",
    "s3_input_files_address = \"s3://ucsd-ccbb-interns/Mustafa/wgs_test/Sample_cDNA/mouse_samples\"\n",
    "s3_output_files_address = \"s3://ucsd-ccbb-interns/Mustafa/wgs_test/Sample_cDNA/gatk_run\"\n",
    "\n",
    "## CFNCluster name\n",
    "your_cluster_name = \"mustafa7\"\n",
    "\n",
    "## The private key pair for accessing cluster.\n",
    "private_key = \"/home/mustafa/keys/interns_oregon_key.pem\"\n",
    "\n",
    "## Project information\n",
    "project_name = \"test_status\"\n",
    "\n",
    "#bwa_gatk or bwa_mutect\n",
    "workflow = \"bwa_mutect\"\n",
    "\n",
    "#hg19 or GRCm38\n",
    "genome = \"GRCm38\"\n",
    "\n",
    "## If delete cfncluster after job is done.\n",
    "delete_cfncluster= False\n",
    "\n",
    "## Possible analysis_steps inputs for the two workflows. Order of input does not matter.\n",
    "\n",
    "##bwa_gatk: \"fastqc\", \"trim\", \"align\", \"multiqc\",\"sort\", \"dedup\", \"split\", \"postalignment\", \n",
    "#\"haplotype\", \"merge\", \"combine_vcf\", \"filter\"\n",
    "\n",
    "##bwa_mutect: \"fastqc\", \"trim\" , \"align\", \"multiqc\", \"sort\", \"dedup\", \"split\", \"postalignment\",\n",
    "#\"somatic_variant_calling\", \"merge\"\n",
    "\n",
    "analysis_steps = {\n",
    "                    \"fastqc\"\n",
    "                    ,\"trim\"\n",
    "                    ,\"align\"\n",
    "#                     ,\"multiqc\"\n",
    "                    ,\"sort\"\n",
    "                    ,\"dedup\"\n",
    "                    ,\"split\"\n",
    "#                     ,\"postalignment\"\n",
    "#                     ,\"haplotype\"\n",
    "#                     ,\"mutect\"\n",
    "#                     ,\"merge\" \n",
    "#                     ,\"merge_vcf_pairwise\"\n",
    "#                     ,\"combine_vcf\"\n",
    "                    #\"filter\"\n",
    "                }\n",
    "\n",
    "#add design file path here\n",
    "#examples in cirrus_root/data/cirrus-ngs/\n",
    "design_file = \"/home/mustafa/ccbb/cirrus-ngs/data/cirrus-ngs/mouse_test.txt\"\n",
    "\n",
    "print(\"variables set\")"
   ]
  },
  {
   "cell_type": "markdown",
   "metadata": {},
   "source": [
    "## 2. Create CFNCluster"
   ]
  },
  {
   "cell_type": "markdown",
   "metadata": {},
   "source": [
    "Following cell connects to your cluster. Run before step 3."
   ]
  },
  {
   "cell_type": "code",
   "execution_count": 2,
   "metadata": {},
   "outputs": [
    {
     "name": "stdout",
     "output_type": "stream",
     "text": [
      "cluster mustafa7 does exist.\n",
      "warning: There is a newer version 1.4.2 of cfncluster available.\n",
      "Status: CREATE_COMPLETE\n",
      "Status: CREATE_COMPLETE\n",
      "MasterServer: RUNNING\n",
      "MasterServer: RUNNING\n",
      "Output:\"MasterPublicIP\"=\"34.214.180.149\"\n",
      "Output:\"MasterPrivateIP\"=\"172.31.33.31\"\n",
      "Output:\"GangliaPublicURL\"=\"http://34.214.180.149/ganglia/\"\n",
      "Output:\"GangliaPrivateURL\"=\"http://172.31.33.31/ganglia/\"\n",
      "\n",
      "connecting\n",
      "connected\n"
     ]
    }
   ],
   "source": [
    "## Create a new cluster\n",
    "master_ip_address = CFNClusterManager.create_cfn_cluster(cluster_name=your_cluster_name)\n",
    "ssh_client = ConnectionManager.connect_master(hostname=master_ip_address,\n",
    "               username=\"ec2-user\",\n",
    "               private_key_file=private_key)"
   ]
  },
  {
   "cell_type": "markdown",
   "metadata": {},
   "source": [
    "## 3. Run the pipeline"
   ]
  },
  {
   "cell_type": "markdown",
   "metadata": {},
   "source": [
    "This cell actually executes your pipeline. Make sure that steps 1 and 2 have been completed before running."
   ]
  },
  {
   "cell_type": "code",
   "execution_count": 3,
   "metadata": {},
   "outputs": [
    {
     "name": "stdout",
     "output_type": "stream",
     "text": [
      "[['SRR2473232_1.fastq.gz', 'SRR2473232_2.fastq.gz'], ['SRR616274_1.fastq.gz', 'SRR616274_2.fastq.gz']]\n",
      "['groupA', 'groupA']\n",
      "{'SRR2473232_1': 'SRR616274_1'}\n",
      "making the yaml file...\n",
      "copying yaml file to remote master node...\n",
      "test_status.yaml\n",
      "/shared/workspace/Pipelines/yaml_files/DNASeq/bwa_mutect\n",
      "executing pipeline...\n"
     ]
    }
   ],
   "source": [
    "sample_list, group_list, pairs_list = DesignFileLoader.load_design_file(design_file)\n",
    "\n",
    "PipelineManager.execute(\"DNASeq\", ssh_client, project_name, workflow, analysis_steps, s3_input_files_address,\n",
    "                       sample_list, group_list, s3_output_files_address, genome, \"NA\", pairs_list)"
   ]
  },
  {
   "cell_type": "markdown",
   "metadata": {},
   "source": [
    "## 4. Check status of pipeline"
   ]
  },
  {
   "cell_type": "markdown",
   "metadata": {},
   "source": [
    "This allows you to check the status of your pipeline. You can specify a step or set the step variable to \"all\". If you specify a step it should be one that is in your analysis_steps set. You can toggle how verbose the status checking is by setting the verbose flag (at the end of the second line) to False. "
   ]
  },
  {
   "cell_type": "code",
   "execution_count": 14,
   "metadata": {
    "scrolled": true
   },
   "outputs": [
    {
     "name": "stdout",
     "output_type": "stream",
     "text": [
      "checking status of jobs...\n",
      "\n",
      "The fastqc step is being executed\n",
      "There are 2 instances of the fastqc step currently running\n",
      "\n",
      "The trim step has not started yet.\n",
      "\n",
      "The bwa step has not started yet.\n",
      "\n",
      "The sort step has not started yet.\n",
      "\n",
      "The dedup step has not started yet.\n",
      "\n",
      "The split step has not started yet.\n",
      "\n"
     ]
    }
   ],
   "source": [
    "step = \"all\"\n",
    "PipelineManager.check_status(ssh_client, step, \"DNASeq\", workflow, project_name, analysis_steps,verbose=False)"
   ]
  },
  {
   "cell_type": "markdown",
   "metadata": {
    "collapsed": true
   },
   "source": [
    "If your pipeline is finished run this cell just in case there's some processes still running.\n",
    "This is only relevant if you plan on doing another run on the same cluster afterwards."
   ]
  },
  {
   "cell_type": "code",
   "execution_count": null,
   "metadata": {
    "collapsed": true
   },
   "outputs": [],
   "source": [
    "PipelineManager.stop_pipeline(ssh_client)"
   ]
  },
  {
   "cell_type": "markdown",
   "metadata": {},
   "source": [
    "## 5. Display MultiQC report"
   ]
  },
  {
   "cell_type": "markdown",
   "metadata": {},
   "source": [
    "### Note: Run the cells below after the multiqc step is done"
   ]
  },
  {
   "cell_type": "code",
   "execution_count": null,
   "metadata": {
    "collapsed": true
   },
   "outputs": [],
   "source": [
    "# Download the multiqc html file to local\n",
    "notebook_dir = os.getcwd().split(\"notebooks\")[0] + \"data/\"\n",
    "!aws s3 cp $s3_output_files_address/$project_name/$workflow/multiqc_report.html $notebook_dir"
   ]
  },
  {
   "cell_type": "code",
   "execution_count": null,
   "metadata": {
    "collapsed": true
   },
   "outputs": [],
   "source": [
    "from IPython.display import IFrame\n",
    "\n",
    "IFrame(os.path.relpath(\"{}multiqc_report.html\".format(notebook_dir)), width=\"100%\", height=1000)"
   ]
  }
 ],
 "metadata": {
  "kernelspec": {
   "display_name": "Python 3",
   "language": "python",
   "name": "python3"
  },
  "language_info": {
   "codemirror_mode": {
    "name": "ipython",
    "version": 3
   },
   "file_extension": ".py",
   "mimetype": "text/x-python",
   "name": "python",
   "nbconvert_exporter": "python",
   "pygments_lexer": "ipython3",
   "version": "3.6.1"
  }
 },
 "nbformat": 4,
 "nbformat_minor": 1
}
