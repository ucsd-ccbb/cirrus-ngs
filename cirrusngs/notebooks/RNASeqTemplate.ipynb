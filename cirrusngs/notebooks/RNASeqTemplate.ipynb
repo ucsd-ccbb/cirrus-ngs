{
 "cells": [
  {
   "cell_type": "markdown",
   "metadata": {},
   "source": [
    "# RNA-seq Pipeline"
   ]
  },
  {
   "cell_type": "markdown",
   "metadata": {},
   "source": [
    "## Be sure to install paramiko and scp with pip before using this notebook"
   ]
  },
  {
   "cell_type": "markdown",
   "metadata": {},
   "source": [
    "## 1. Configure AWS key pair, data location on S3 and the project information"
   ]
  },
  {
   "cell_type": "markdown",
   "metadata": {},
   "source": [
    "This cell only contains information that you, the user, should input.\n",
    "\n",
    "#### String Fields\n",
    "\n",
    "**s3_input_files_address**: This is an s3 path to where your input fastq files are found. This shouldn't be the path to the actual fastq files, just to the directory containing all of them. All fastq files must be in the same s3 bucket.\n",
    "\n",
    "**s3_output_files_address**: This is an s3 path to where you would like the outputs from your project to be uploaded. This will only be the root directory, please see the README for information about exactly how outputs are structured\n",
    "\n",
    "**design_file**: This is a path to your design file for this project. Please see the README for the format specification for the design files. \n",
    "\n",
    "**your_cluster_name**: This is the name given to your cluster when it was created using cfncluster. \n",
    "\n",
    "**private_key**: The path to your private key needed to access your cluster.\n",
    "\n",
    "**project_name**: Name of your project. There should be no whitespace.\n",
    "\n",
    "**workflow**: The workflow you want to run for this project. For the RNASeq pipeline the possible workflows are \"star_rsem\", \"star_gatk\", \"star_htseq\", and \"kallisto\". \n",
    "\n",
    "**genome**: The name of the reference you want to use for your project. Currently only \"hg19\" is supported here.\n",
    "\n",
    "#### analysis_steps\n",
    "This is a set of strings that contains the steps you would like to run. The order of the steps does not matter.\n",
    "\n",
    "posible star_gatk steps: \"fastqc\", \"trim\", \"align\", \"multiqc\", \"variant_calling\"\n",
    "\n",
    "possible star_htseq steps: \"fastqc\", \"trim\", \"align\", \"multiqc\", \"count\", \"merge_counts\"\n",
    "\n",
    "possible star_rsem steps: \"fastqc\", \"trim\", \"align_count\", \"multiqc\", \"merge_counts\"\n",
    "\n",
    "possible kallisto steps: \"fastqc\", \"trim\", \"align\", \"multiqc\", \"count\", \"merge_counts\""
   ]
  },
  {
   "cell_type": "code",
   "execution_count": null,
   "metadata": {
    "collapsed": true
   },
   "outputs": [],
   "source": [
    "import os\n",
    "import sys\n",
    "from cirrusngs.managers import ConnectionManager, PipelineManager, CFNClusterManager\n",
    "from cirrusngs.util import DesignFileLoader\n",
    "\n",
    "s3_input_files_address = \"{s3_input_files_address}\"\n",
    "s3_output_files_address = \"{s3_output_files_address}\"\n",
    "\n",
    "design_file = \"{design_file}\"\n",
    "\n",
    "your_cluster_name = \"{your_cluster_name}\"\n",
    "\n",
    "private_key = \"{private_key}\"\n",
    "\n",
    "project_name = \"{project_name}\"\n",
    "\n",
    "workflow = \"{workflow}\"\n",
    "\n",
    "genome = \"{genome}\"\n",
    "\n",
    "## Analysis steps:\n",
    "# for star_gatk: \"fastqc\", \"trim\", \"align\", \"multiqc\", \"variant_calling\"\n",
    "# for star_htseq: \"fastqc\", \"trim\", \"align\", \"multiqc\", \"count\", \"merge_counts\"\n",
    "# for star_rsem: \"fastqc\", \"trim\", \"align_count\", \"multiqc\", \"merge_counts\"\n",
    "# for kallisto: \"fastqc\", \"trim\", \"align\", \"multiqc\", \"count\", \"merge_counts\"\n",
    "analysis_steps = {\n",
    "                    \"fastqc\"\n",
    "                    ,\"trim\"\n",
    "                    ,\"align\"\n",
    "#                     ,\"align_count\"\n",
    "                    ,\"multiqc\"\n",
    "                    ,\"count\"\n",
    "                    ,\"merge_counts\"\n",
    "                }"
   ]
  },
  {
   "cell_type": "markdown",
   "metadata": {},
   "source": [
    "## 2. Create CFNCluster"
   ]
  },
  {
   "cell_type": "markdown",
   "metadata": {},
   "source": [
    "Following cell connects to your cluster. Run before step 3."
   ]
  },
  {
   "cell_type": "code",
   "execution_count": null,
   "metadata": {
    "collapsed": true,
    "scrolled": false
   },
   "outputs": [],
   "source": [
    "## Create a new cluster\n",
    "master_ip_address = CFNClusterManager.create_cfn_cluster(cluster_name=your_cluster_name)\n",
    "ssh_client = ConnectionManager.connect_master(hostname=master_ip_address,\n",
    "                                              username=\"ec2-user\",\n",
    "                                              private_key_file=private_key)"
   ]
  },
  {
   "cell_type": "markdown",
   "metadata": {},
   "source": [
    "## 3. Run the RNA sequencing pipeline"
   ]
  },
  {
   "cell_type": "markdown",
   "metadata": {},
   "source": [
    "This cell actually executes your pipeline. Make sure that steps 1 and 2 have been completed before running."
   ]
  },
  {
   "cell_type": "code",
   "execution_count": null,
   "metadata": {
    "collapsed": true,
    "scrolled": false
   },
   "outputs": [],
   "source": [
    "sample_list, group_list, pairs_list = DesignFileLoader.load_design_file(design_file)\n",
    "\n",
    "PipelineManager.execute(\"RNASeq\", ssh_client, project_name, workflow, analysis_steps, s3_input_files_address,\n",
    "                        sample_list, group_list, s3_output_files_address, genome, \"NA\", pair_list)"
   ]
  },
  {
   "cell_type": "markdown",
   "metadata": {},
   "source": [
    "## 4. Check status of pipeline"
   ]
  },
  {
   "cell_type": "markdown",
   "metadata": {},
   "source": [
    "This allows you to check the status of your pipeline. You can specify a step or set the step variable to \"all\". If you specify a step it should be one that is in your analysis_steps set. You can toggle how verbose the status checking is by setting the verbose flag (at the end of the second line) to False. "
   ]
  },
  {
   "cell_type": "code",
   "execution_count": null,
   "metadata": {
    "collapsed": true
   },
   "outputs": [],
   "source": [
    "step=\"all\"\n",
    "PipelineManager.check_status(ssh_client, step, \"RNASeq\", workflow, project_name, analysis_steps,verbose=True)"
   ]
  },
  {
   "cell_type": "markdown",
   "metadata": {},
   "source": [
    "If your pipeline is finished run this cell just in case there's some processes still running.\n",
    "This is only relevant if you plan on doing another run on the same cluster afterwards."
   ]
  },
  {
   "cell_type": "code",
   "execution_count": null,
   "metadata": {
    "collapsed": true
   },
   "outputs": [],
   "source": [
    "PipelineManager.stop_pipeline(ssh_client)"
   ]
  },
  {
   "cell_type": "markdown",
   "metadata": {},
   "source": [
    "## 5. Display MultiQC report"
   ]
  },
  {
   "cell_type": "markdown",
   "metadata": {
    "collapsed": true
   },
   "source": [
    "### Note: Run the cells below after the multiqc step is done"
   ]
  },
  {
   "cell_type": "code",
   "execution_count": null,
   "metadata": {
    "collapsed": true
   },
   "outputs": [],
   "source": [
    "# Download the multiqc html file to local\n",
    "multiqc_report = os.path.join(s3_output_files_address, \"{}/{}/multiqc_report.html\".format(project_name, workflow))\n",
    "!aws s3 cp $multiqc_report ."
   ]
  },
  {
   "cell_type": "code",
   "execution_count": null,
   "metadata": {
    "collapsed": true
   },
   "outputs": [],
   "source": [
    "from IPython.display import IFrame\n",
    "\n",
    "IFrame(os.path.relpath(\"multiqc_report.html\"), width=\"100%\", height=1000)"
   ]
  }
 ],
 "metadata": {
  "kernelspec": {
   "display_name": "Python 3",
   "language": "python",
   "name": "python3"
  },
  "language_info": {
   "codemirror_mode": {
    "name": "ipython",
    "version": 3
   },
   "file_extension": ".py",
   "mimetype": "text/x-python",
   "name": "python",
   "nbconvert_exporter": "python",
   "pygments_lexer": "ipython3",
   "version": "3.6.1"
  }
 },
 "nbformat": 4,
 "nbformat_minor": 2
}
