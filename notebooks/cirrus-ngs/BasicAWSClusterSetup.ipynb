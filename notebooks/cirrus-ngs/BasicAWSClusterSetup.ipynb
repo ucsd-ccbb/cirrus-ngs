{
 "cells": [
  {
   "cell_type": "markdown",
   "metadata": {
    "collapsed": true
   },
   "source": [
    "<h1 align=\"center\">Basic AWS Cluster Setup</h1> \n",
    "<h3 align=\"center\">Author: Guorong Xu (g1xu@ucsd.edu) </h3>\n",
    "<h3 align=\"center\">2019-7-17</h3> "
   ]
  },
  {
   "cell_type": "markdown",
   "metadata": {},
   "source": [
    "## The notebook is an example that tells you how to call API to install, configure ParrallelCluster package, create a cluster, and connect to the master node. Currently we only support Linux, Mac OS platforms."
   ]
  },
  {
   "cell_type": "markdown",
   "metadata": {},
   "source": [
    "## <font color='red'>Notice:</font> First step is to fill in the AWS account access keys and then follow the instructions to install ParallelCluster package and create a cluster. "
   ]
  },
  {
   "cell_type": "code",
   "execution_count": 1,
   "metadata": {},
   "outputs": [],
   "source": [
    "import os\n",
    "import sys\n",
    "\n",
    "sys.path.append(\"../../src/cirrus_ngs\")\n",
    "\n",
    "## Input the AWS account access keys\n",
    "aws_access_key_id = \"AKIXXXXXXXXXXXXXXXXMBA\" \n",
    "aws_secret_access_key = \"1irasdasdfsfafwefafeasfasdsdf+5Ob\"\n",
    "\n",
    "## ParallelCluster name\n",
    "your_cluster_name = \"clustername\"\n",
    "\n",
    "## The private key pair for accessing cluster.\n",
    "private_key = \"/path/to/your_aws_key.pem\"\n",
    "\n",
    "## If delete ParallelCluster after job is done.\n",
    "delete_cluster = False"
   ]
  },
  {
   "cell_type": "markdown",
   "metadata": {},
   "source": [
    "## 1. Install Cluster"
   ]
  },
  {
   "cell_type": "markdown",
   "metadata": {},
   "source": [
    "### Notice: The cluster package can be only installed on Linux box which supports pip installation."
   ]
  },
  {
   "cell_type": "code",
   "execution_count": null,
   "metadata": {
    "collapsed": true
   },
   "outputs": [],
   "source": [
    "sys.path.append(\"../../src/cirrus_ngs\")\n",
    "from awsCluster import ClusterManager\n",
    "ClusterManager.install_cluster()"
   ]
  },
  {
   "cell_type": "markdown",
   "metadata": {},
   "source": [
    "## 2. Upgrade ParallelCluster"
   ]
  },
  {
   "cell_type": "code",
   "execution_count": null,
   "metadata": {
    "collapsed": true
   },
   "outputs": [],
   "source": [
    "from awsCluster import ClusterManager\n",
    "ClusterManager.upgrade_cluster()"
   ]
  },
  {
   "cell_type": "markdown",
   "metadata": {},
   "source": [
    "## 3. Configure ParallelCluster"
   ]
  },
  {
   "cell_type": "markdown",
   "metadata": {},
   "source": [
    "### To configure ParallelCluster settings, you need to import the package ParallelCluster. The below functions tell you how to insert AWS access keys, configure instance types, spot price and S3 resource."
   ]
  },
  {
   "cell_type": "code",
   "execution_count": 6,
   "metadata": {},
   "outputs": [],
   "source": [
    "from awsCluster import ClusterManager\n",
    "\n",
    "## Configure ParallelCluster settings\n",
    "## aws access keys are the AWS credentials section (required). These settings apply to all clusters.\n",
    "ClusterManager.insert_access_keys(aws_access_key_id=aws_access_key_id, aws_secret_access_key=aws_secret_access_key)\n",
    "\n",
    "## \"private_key\" is to specify the name of an existing EC2 KeyPair to enable SSH access to the instances\n",
    "ClusterManager.config_key_name(private_key)\n",
    "\n",
    "## \"master_instance_type\" is to specify the EC2 instance type use for the master node.\n",
    "## \"compute_instance_type\" is to specify the EC2 instance type used for the cluster compute nodes.\n",
    "ClusterManager.config_instance_types(master_instance_type=\"t2.medium\", compute_instance_type=\"r3.8xlarge\")\n",
    "\n",
    "## \"initial_cluster_size\" is to specify the inital number of EC2 instances to launch as compute nodes in the cluster.\n",
    "ClusterManager.config_initial_cluster_size(initial_cluster_size=\"0\")\n",
    "\n",
    "## \"spot_price\" is to specify the maximum spot price for the ComputeFleet.\n",
    "ClusterManager.config_spot_price(spot_price=\"1.5\")\n",
    "\n",
    "## \"volume_size\" is to specify the size of volume to be created (if not using a snapshot)\n",
    "ClusterManager.config_volume_size(volume_size=\"300\")\n",
    "\n",
    "## \"ebs_snapshot_id\" is to specify the EBS volume which contains all prebuilt pipeline and software.\n",
    "## \"snap-047728f70680eae54\" is the released snapshot ID for the LATEST version. \n",
    "ClusterManager.config_ebs_snapshot_id(ebs_snapshot_id=\"snap-0c9df91b9c0aff12c\")\n",
    "\n",
    "## \"aws_region_name\" is to specify the aws region where the cluster will be created in.\n",
    "ClusterManager.config_aws_region_name(aws_region_name=\"us-west-2\")\n",
    "\n",
    "## \"post_install\" is a URL to a postinstall script. This is executed after creation of cluster.\n",
    "#ClusterManager.config_post_install(post_install=\"s3://path/to/postinstall.sh\")\n",
    "\n",
    "## \"master_subnet_id\" is to specify ID of an existing subnet you want to provision the Master server into.\n",
    "## \"vpc_id\" is to specify ID of the VPC you want to provision cluster into.\n",
    "ClusterManager.config_vpc_subnet_id(master_subnet_id=\"subnet-00000000\", vpc_id=\"vpc-00000000\")\n",
    "\n",
    "## s3_read_resource is to specify S3 bucket for which ParallelCluster nodes will be granted read-only access\n",
    "## s3_read_write_resource is to specify S3 resource for which ParallelCluster nodes will be granted read-write access\n",
    "ClusterManager.config_s3_resource(s3_read_resource=\"bucket_name\", s3_read_write_resource=\"bucket_name\")\n"
   ]
  },
  {
   "cell_type": "markdown",
   "metadata": {},
   "source": [
    "### After you finish configuration, you can call the below function to double check if your settings are correct."
   ]
  },
  {
   "cell_type": "markdown",
   "metadata": {},
   "source": [
    "### Before you create a new cluster, you can check the current running clusters to avoid to use the different cluster name by call the below function."
   ]
  },
  {
   "cell_type": "code",
   "execution_count": 7,
   "metadata": {},
   "outputs": [
    {
     "name": "stdout",
     "output_type": "stream",
     "text": [
      "[aws]\n",
      "aws_region_name = us-west-2\n",
      "aws_access_key_id = AKIXXXXXXXXXXXXXXXXMBA\n",
      "aws_secret_access_key = 1irasdasdfsfafwefafeasfasdsdf+5Ob\n",
      "\n",
      "[cluster cluster]\n",
      "vpc_settings = ucsd\n",
      "key_name = your_aws_key\n",
      "master_instance_type = t2.medium\n",
      "compute_instance_type = r3.8xlarge\n",
      "initial_queue_size = 0\n",
      "cluster_type = spot\n",
      "spot_price = 1.5\n",
      "ebs_settings = custom\n",
      "#s3_read_resource = arn:aws:s3:::bucket_name\n",
      "#s3_read_write_resource = arn:aws:s3:::bucket_name/*\n",
      "#post_install = s3://bucket_name/path/to/postinstall.sh\n",
      "\n",
      "[vpc ucsd]\n",
      "master_subnet_id = subnet-00000000\n",
      "vpc_id = vpc-00000000\n",
      "\n",
      "[global]\n",
      "update_check = true\n",
      "sanity_check = true\n",
      "cluster_template = cluster\n",
      "\n",
      "[ebs custom]\n",
      "ebs_snapshot_id = snap-088438396378400a8\n",
      "#volume_size = 300\n"
     ]
    }
   ],
   "source": [
    "ClusterManager.view_cluster_config()"
   ]
  },
  {
   "cell_type": "code",
   "execution_count": null,
   "metadata": {
    "collapsed": true
   },
   "outputs": [],
   "source": [
    "ClusterManager.list_aws_cluster()"
   ]
  },
  {
   "cell_type": "markdown",
   "metadata": {},
   "source": [
    "### To create a new cluster, you need to set a cluster name and then call the below function. After the creation is complete, you will see the output information about your cluser IP address."
   ]
  },
  {
   "cell_type": "code",
   "execution_count": null,
   "metadata": {
    "collapsed": true
   },
   "outputs": [],
   "source": [
    "master_ip_address = ClusterManager.create_aws_cluster(cluster_name=your_cluster_name)"
   ]
  },
  {
   "cell_type": "markdown",
   "metadata": {},
   "source": [
    "## 4. Manage cluster"
   ]
  },
  {
   "cell_type": "markdown",
   "metadata": {},
   "source": [
    "### To manage your new created cluster, you need to import  ConnectionManager. The ConnectionManager can create the connection to the master node, execute commands on the master node, transfer files to the master. To create a connection to the master node, you need to set the hostname, username and your private key file. The hostname IP address (MasterPublicIP) can be found when your cluster creation is complete. The private key file should be the same when you configure ParallelCluster. "
   ]
  },
  {
   "cell_type": "code",
   "execution_count": null,
   "metadata": {
    "collapsed": true
   },
   "outputs": [],
   "source": [
    "from awsCluster import ConnectionManager\n",
    "ssh_client = ConnectionManager.connect_master(hostname=master_ip_address,\n",
    "               username=\"ec2-user\",\n",
    "               private_key_file=private_key)"
   ]
  },
  {
   "cell_type": "markdown",
   "metadata": {},
   "source": [
    "### After the job is done, you can call the below function to close the connection. "
   ]
  },
  {
   "cell_type": "code",
   "execution_count": null,
   "metadata": {
    "collapsed": true
   },
   "outputs": [],
   "source": [
    "ConnectionManager.close_connection(ssh_client)"
   ]
  },
  {
   "cell_type": "markdown",
   "metadata": {},
   "source": [
    "### To delete the cluster, you just need to set the cluster name and call the below function."
   ]
  },
  {
   "cell_type": "code",
   "execution_count": null,
   "metadata": {
    "collapsed": true
   },
   "outputs": [],
   "source": [
    "from awsCluster import ClusterManager\n",
    "\n",
    "if delete_cluster == True:\n",
    "    ClusterManager.delete_aws_cluster(cluster_name=your_cluster_name)"
   ]
  },
  {
   "cell_type": "code",
   "execution_count": null,
   "metadata": {
    "collapsed": true
   },
   "outputs": [],
   "source": []
  }
 ],
 "metadata": {
  "kernelspec": {
   "display_name": "Python 3",
   "language": "python",
   "name": "python3"
  },
  "language_info": {
   "codemirror_mode": {
    "name": "ipython",
    "version": 3
   },
   "file_extension": ".py",
   "mimetype": "text/x-python",
   "name": "python",
   "nbconvert_exporter": "python",
   "pygments_lexer": "ipython3",
   "version": "3.7.1"
  }
 },
 "nbformat": 4,
 "nbformat_minor": 1
}
