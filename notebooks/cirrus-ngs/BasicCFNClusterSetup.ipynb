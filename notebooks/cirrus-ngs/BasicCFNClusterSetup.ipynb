{
 "cells": [
  {
   "cell_type": "markdown",
   "metadata": {
    "collapsed": true
   },
   "source": [
    "# CFNCluster Set-up \n",
    "* Guorong Xu, Center for Computational Biology and Bioinformatics, UCSD (g1xu@ucsd.edu)\n",
    "\n",
    "## Introduction\n",
    "\n",
    "The notebook provides steps to install and configure the CFNCluster package, create a cluster, and connect to the master node. \n",
    "\n",
    "<div class=\"alert alert-info\">\n",
    "\n",
    "Before running this notebook, ensure:\n",
    "\n",
    "* You are running it on a linux or Mac OSX platform\n",
    "* You have installed the `paramiko` and `scp` packages in the environment where it is running\n",
    "* You have an existing AWS account, and have the access keys and a private key pair file for this account\n",
    "\n",
    "</div>"
   ]
  },
  {
   "cell_type": "markdown",
   "metadata": {},
   "source": [
    "## Input Parameters\n",
    "\n",
    "<div class=\"alert alert-warning\">\n",
    "<h4>Analyst note:</h4>\n",
    "The values shown below are example settings, and <strong>MUST</strong> be replaced with appropriate values for your cluster.\n",
    "</div>"
   ]
  },
  {
   "cell_type": "code",
   "execution_count": null,
   "metadata": {},
   "outputs": [],
   "source": [
    "# new CFNCluster name\n",
    "your_cluster_name = \"myclustername\"\n",
    "\n",
    "# AWS account access keys\n",
    "aws_access_key_id = \"AKIXXXXXXXXXXXXXXXXMBA\" \n",
    "aws_secret_access_key = \"1irasdasdfsfafwefafeasfasdsdf+5Ob\"\n",
    "\n",
    "# private key pair file for accessing the new cluster\n",
    "private_key = \"/path/to/your_aws_key.pem\""
   ]
  },
  {
   "cell_type": "markdown",
   "metadata": {},
   "source": [
    "<div class=\"alert alert-warning\">\n",
    "<h4>Analyst note:</h4>\n",
    "The values shown below are settings usually shared by all users within an organization, which, once set, <strong>SHOULD NOT</strong> be modified without a clear understanding of what change should be made and why it is necessary.\n",
    "</div>"
   ]
  },
  {
   "cell_type": "code",
   "execution_count": null,
   "metadata": {},
   "outputs": [],
   "source": [
    "# \"spot_price\" is the maximum spot price, in dollars per hour, for the ComputeFleet\n",
    "spot_price=\"1.5\"\n",
    "# \"volume_size\" is the size of volume to be created (if not using a snapshot)\n",
    "volume_size=\"300\"\n",
    "# \"aws_region_name\" is the aws region in which the cluster will be created\n",
    "aws_region_name=\"us-west-2\"\n",
    "# \"master_subnet_id\" is the ID of an existing subnet into which you want to provision the Master server\n",
    "master_subnet_id=\"subnet-c86788ad\" \n",
    "# \"vpc_id\" is the ID of the VPC into which you want to provision the cluster\n",
    "vpc_id=\"vpc-c7e503a2\"\n",
    "# s3_read_resource is the S3 bucket to which cfncluster nodes will be granted read-only access\n",
    "s3_read_resource=\"ucsd-ccbb-projects\"\n",
    "# s3_read_write_resource is the S3 resource to which cfncluster nodes will be granted read-write access\n",
    "s3_read_write_resource=\"ucsd-ccbb-projects\""
   ]
  },
  {
   "cell_type": "markdown",
   "metadata": {},
   "source": [
    "<div class=\"alert alert-warning\">\n",
    "<h4>Analyst note:</h4>\n",
    "The values shown below are standard settings for ALL users, and <strong>SHOULD NOT</strong> be modified without a clear understanding of what change should be made and why it is necessary.\n",
    "</div>"
   ]
  },
  {
   "cell_type": "code",
   "execution_count": null,
   "metadata": {},
   "outputs": [],
   "source": [
    "# \"ebs_snapshot_id\" is the EBS volume which contains all prebuilt pipeline and software\n",
    "ebs_snapshot_id=\"snap-088438396378400a8\"\n",
    "# \"master_instance_type\" is the EC2 instance type use for the master node\n",
    "master_instance_type = \"t2.medium\"\n",
    "# \"compute_instance_type\" is the EC2 instance type used for the cluster compute nodes\n",
    "compute_instance_type=\"r3.8xlarge\"\n",
    "# \"initial_cluster_size\" is the inital number of EC2 instances to launch as compute nodes in the cluster\n",
    "initial_cluster_size=\"0\"\n",
    "# \"volume_size\" is the size of volume to be created (if not using a snapshot)\n",
    "volume_size=\"300\""
   ]
  },
  {
   "cell_type": "markdown",
   "metadata": {},
   "source": [
    "## CFNCluster Installation\n",
    "\n",
    "Import the scripts to support CFNCluster installation:"
   ]
  },
  {
   "cell_type": "code",
   "execution_count": null,
   "metadata": {},
   "outputs": [],
   "source": [
    "import os\n",
    "import sys\n",
    "sys.path.append(\"../../src/cirrus_ngs\")\n",
    "\n",
    "from cfnCluster import CFNClusterManager"
   ]
  },
  {
   "cell_type": "markdown",
   "metadata": {},
   "source": [
    "Install the cfncluster package (if the package is already installed, this command will simply report that all the installation requirements are already satisfied):"
   ]
  },
  {
   "cell_type": "code",
   "execution_count": null,
   "metadata": {},
   "outputs": [],
   "source": [
    "CFNClusterManager.install_cfn_cluster()"
   ]
  },
  {
   "cell_type": "markdown",
   "metadata": {},
   "source": [
    "Check for and install any upgrades to the cfncluster package.  Again, if no new updates are available, the command will report that all requirements are satisfied and/or up-to-date."
   ]
  },
  {
   "cell_type": "code",
   "execution_count": null,
   "metadata": {},
   "outputs": [],
   "source": [
    "CFNClusterManager.upgrade_cfn_cluster()"
   ]
  },
  {
   "cell_type": "markdown",
   "metadata": {},
   "source": [
    "## Cluster Configuration\n",
    "\n",
    "Set cluster configuration values from the input parameters:"
   ]
  },
  {
   "cell_type": "code",
   "execution_count": null,
   "metadata": {},
   "outputs": [],
   "source": [
    "## Configure cfncluster settings\n",
    "## aws access keys are the AWS credentials section (required). These settings apply to all clusters.\n",
    "CFNClusterManager.insert_access_keys(aws_access_key_id=aws_access_key_id, aws_secret_access_key=aws_secret_access_key)\n",
    "## \"private_key\" is to specify the name of an existing EC2 KeyPair to enable SSH access to the instances\n",
    "CFNClusterManager.config_key_name(private_key)\n",
    "CFNClusterManager.config_instance_types(master_instance_type=master_instance_type, \n",
    "                                        compute_instance_type=compute_instance_type)\n",
    "CFNClusterManager.config_initial_cluster_size(initial_cluster_size=initial_cluster_size)\n",
    "CFNClusterManager.config_spot_price(spot_price=spot_price)\n",
    "CFNClusterManager.config_volume_size(volume_size=volume_size)\n",
    "CFNClusterManager.config_ebs_snapshot_id(ebs_snapshot_id=ebs_snapshot_id)\n",
    "CFNClusterManager.config_aws_region_name(aws_region_name=aws_region_name)\n",
    "CFNClusterManager.config_vpc_subnet_id(master_subnet_id=master_subnet_id, \n",
    "                                       vpc_id=vpc_id)\n",
    "CFNClusterManager.config_s3_resource(s3_read_resource=s3_read_resource, \n",
    "                                     s3_read_write_resource=s3_read_write_resource)"
   ]
  },
  {
   "cell_type": "markdown",
   "metadata": {},
   "source": [
    "View the configuration settings:"
   ]
  },
  {
   "cell_type": "code",
   "execution_count": null,
   "metadata": {},
   "outputs": [],
   "source": [
    "CFNClusterManager.view_cfncluster_config()"
   ]
  },
  {
   "cell_type": "markdown",
   "metadata": {},
   "source": [
    "<div class=\"alert alert-warning\">\n",
    "<h4>Analyst note:</h4>\n",
    "\n",
    "Examine the output above; if any of the settings look surprising given the input parameters, address these before creating the cluster.\n",
    "\n",
    "</div>"
   ]
  },
  {
   "cell_type": "markdown",
   "metadata": {},
   "source": [
    "## Cluster Creation"
   ]
  },
  {
   "cell_type": "markdown",
   "metadata": {},
   "source": [
    "Examine the existing list of cluster names on the AWS account:"
   ]
  },
  {
   "cell_type": "code",
   "execution_count": null,
   "metadata": {},
   "outputs": [],
   "source": [
    "CFNClusterManager.list_cfn_cluster()"
   ]
  },
  {
   "cell_type": "markdown",
   "metadata": {},
   "source": [
    "Examine the input name for the new cluster:"
   ]
  },
  {
   "cell_type": "code",
   "execution_count": null,
   "metadata": {},
   "outputs": [],
   "source": [
    "your_cluster_name"
   ]
  },
  {
   "cell_type": "markdown",
   "metadata": {},
   "source": [
    "<div class=\"alert alert-warning\">\n",
    "<h4>Analyst note:</h4>\n",
    "\n",
    "Each cluster must have  unique name.  If the chosen new cluster name already exists in the list of clusters for this AWS account, return to the Input Parameters section, set a new name, and rerun the Input Parameters cell.  Then return to this section and rerun the check above.\n",
    "\n",
    "</div>\n",
    "\n",
    "Create the new cluster (note that this may take a few minutes to run):"
   ]
  },
  {
   "cell_type": "code",
   "execution_count": null,
   "metadata": {},
   "outputs": [],
   "source": [
    "master_ip_address = CFNClusterManager.create_cfn_cluster(cluster_name=your_cluster_name)"
   ]
  },
  {
   "cell_type": "markdown",
   "metadata": {},
   "source": [
    "<div class=\"alert alert-warning\">\n",
    "<h4>Analyst note:</h4>\n",
    "\n",
    "Examine the output above and find the value shown for `MasterPublicIP` (e.g., `52.38.87.227` if the output includes the line `MasterPublicIP: 52.38.87.227`).  This is the IP address of the new cluster, which will be necessary for connecting to the cluster to run jobs on it and manage it.  <strong>Make a note of this IP.</strong>\n",
    "\n",
    "</div>"
   ]
  },
  {
   "cell_type": "markdown",
   "metadata": {},
   "source": [
    "## Example Cluster Usage\n",
    "\n",
    "To interact with your new cluster from python code, you need to import ConnectionManager, which can create the connection to the master node, execute commands on it, and transfer files to it. Create a connection to the master node with code like that shown below.  The hostname should be the cluster IP address identified above, the username should be `ec2-user`, and the private key file should be the one you specified in Input Parameters above."
   ]
  },
  {
   "cell_type": "markdown",
   "metadata": {},
   "source": [
    "    # example cluster connection code\n",
    "    from cfnCluster import ConnectionManager\n",
    "    ssh_client = ConnectionManager.connect_master(hostname=\"52.38.87.227\",\n",
    "                   username=\"ec2-user\",\n",
    "                   private_key_file=\"/path/to/your_aws_key.pem\")"
   ]
  },
  {
   "cell_type": "markdown",
   "metadata": {},
   "source": [
    "After the job you are running on the cluster is done, you can use code like the below to close the connection:"
   ]
  },
  {
   "cell_type": "markdown",
   "metadata": {
    "collapsed": true
   },
   "source": [
    "    ConnectionManager.close_connection(ssh_client)"
   ]
  },
  {
   "cell_type": "markdown",
   "metadata": {},
   "source": [
    "When you are **completely** done using a cluster, you can **permanently delete** it by running code like the below and specifying the cluster name:"
   ]
  },
  {
   "cell_type": "markdown",
   "metadata": {
    "collapsed": true
   },
   "source": [
    "    CFNClusterManager.delete_cfn_cluster(cluster_name=\"myclustername\")"
   ]
  }
 ],
 "metadata": {
  "kernelspec": {
   "display_name": "Python 3",
   "language": "python",
   "name": "python3"
  },
  "language_info": {
   "codemirror_mode": {
    "name": "ipython",
    "version": 3
   },
   "file_extension": ".py",
   "mimetype": "text/x-python",
   "name": "python",
   "nbconvert_exporter": "python",
   "pygments_lexer": "ipython3",
   "version": "3.5.4"
  }
 },
 "nbformat": 4,
 "nbformat_minor": 1
}
